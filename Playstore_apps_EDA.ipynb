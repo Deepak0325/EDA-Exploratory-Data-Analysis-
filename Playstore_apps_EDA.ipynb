{
 "cells": [
  {
   "cell_type": "code",
   "execution_count": 1,
   "metadata": {
    "id": "8zoySSif6que"
   },
   "outputs": [],
   "source": [
    "# Importing the required libraries\n",
    "import pandas as pd\n",
    "import numpy as np\n",
    "import matplotlib.pyplot as plt\n",
    "%matplotlib inline\n",
    "import seaborn as sns\n",
    "import cufflinks\n",
    "import warnings\n",
    "warnings.filterwarnings(\"ignore\")\n",
    "pd.set_option('display.max_columns', None)"
   ]
  },
  {
   "cell_type": "code",
   "execution_count": 2,
   "metadata": {
    "id": "VrGjVZqU7U50"
   },
   "outputs": [],
   "source": [
    "# Link of the dataset used- https://drive.google.com/file/d/11TwsrKE1_nY10cGb-y_nTw0PVRXvrty6/view?usp=sharing\n",
    "# Loading the dataset\n",
    "df=pd.read_csv(r\"C:\\Users\\Radhika\\Downloads\\Dataset\\data3\\googleplaystore.csv\")"
   ]
  },
  {
   "cell_type": "markdown",
   "metadata": {
    "id": "Pomn1kO03Eep"
   },
   "source": [
    "###Attributes Detail\n",
    "1. App- App Name\n",
    "2. Category- Category of the app, total 34 categories\n",
    "3. Rating- Rating on the app\n",
    "4. Reviews- Total number of reviews on an app\n",
    "5. Size- Size of the app in mb or kb\n",
    "6. Installs- Number of installs \n",
    "7. Type- Type of the app mainly free or paid\n",
    "8. Price- Price of the app\n",
    "9. Content Rating- Content Rating of the app , total 6 categories \n",
    "10. Genres- Genre of the app, total 120 categories\n",
    "11. Last Updated- Date on which app was last updated\n",
    "12. Current Ver- Current Version of the app, total 2832 categories\n",
    "13. Android Ver- Current Android Version on which app is running, total 33 categories"
   ]
  },
  {
   "cell_type": "code",
   "execution_count": 3,
   "metadata": {
    "id": "E-qgOYiDWKEq"
   },
   "outputs": [],
   "source": [
    "# Making a copy of dataframe\n",
    "df_copy=df.copy()"
   ]
  },
  {
   "cell_type": "code",
   "execution_count": 4,
   "metadata": {
    "colab": {
     "base_uri": "https://localhost:8080/",
     "height": 337
    },
    "id": "evphXlii7mVZ",
    "outputId": "dd7e241a-3098-48f2-bca5-a322ee9ed5df"
   },
   "outputs": [
    {
     "data": {
      "text/html": [
       "<div>\n",
       "<style scoped>\n",
       "    .dataframe tbody tr th:only-of-type {\n",
       "        vertical-align: middle;\n",
       "    }\n",
       "\n",
       "    .dataframe tbody tr th {\n",
       "        vertical-align: top;\n",
       "    }\n",
       "\n",
       "    .dataframe thead th {\n",
       "        text-align: right;\n",
       "    }\n",
       "</style>\n",
       "<table border=\"1\" class=\"dataframe\">\n",
       "  <thead>\n",
       "    <tr style=\"text-align: right;\">\n",
       "      <th></th>\n",
       "      <th>App</th>\n",
       "      <th>Category</th>\n",
       "      <th>Rating</th>\n",
       "      <th>Reviews</th>\n",
       "      <th>Size</th>\n",
       "      <th>Installs</th>\n",
       "      <th>Type</th>\n",
       "      <th>Price</th>\n",
       "      <th>Content Rating</th>\n",
       "      <th>Genres</th>\n",
       "      <th>Last Updated</th>\n",
       "      <th>Current Ver</th>\n",
       "      <th>Android Ver</th>\n",
       "    </tr>\n",
       "  </thead>\n",
       "  <tbody>\n",
       "    <tr>\n",
       "      <th>0</th>\n",
       "      <td>Photo Editor &amp; Candy Camera &amp; Grid &amp; ScrapBook</td>\n",
       "      <td>ART_AND_DESIGN</td>\n",
       "      <td>4.1</td>\n",
       "      <td>159</td>\n",
       "      <td>19M</td>\n",
       "      <td>10,000+</td>\n",
       "      <td>Free</td>\n",
       "      <td>0</td>\n",
       "      <td>Everyone</td>\n",
       "      <td>Art &amp; Design</td>\n",
       "      <td>January 7, 2018</td>\n",
       "      <td>1.0.0</td>\n",
       "      <td>4.0.3 and up</td>\n",
       "    </tr>\n",
       "    <tr>\n",
       "      <th>1</th>\n",
       "      <td>Coloring book moana</td>\n",
       "      <td>ART_AND_DESIGN</td>\n",
       "      <td>3.9</td>\n",
       "      <td>967</td>\n",
       "      <td>14M</td>\n",
       "      <td>500,000+</td>\n",
       "      <td>Free</td>\n",
       "      <td>0</td>\n",
       "      <td>Everyone</td>\n",
       "      <td>Art &amp; Design;Pretend Play</td>\n",
       "      <td>January 15, 2018</td>\n",
       "      <td>2.0.0</td>\n",
       "      <td>4.0.3 and up</td>\n",
       "    </tr>\n",
       "    <tr>\n",
       "      <th>2</th>\n",
       "      <td>U Launcher Lite – FREE Live Cool Themes, Hide ...</td>\n",
       "      <td>ART_AND_DESIGN</td>\n",
       "      <td>4.7</td>\n",
       "      <td>87510</td>\n",
       "      <td>8.7M</td>\n",
       "      <td>5,000,000+</td>\n",
       "      <td>Free</td>\n",
       "      <td>0</td>\n",
       "      <td>Everyone</td>\n",
       "      <td>Art &amp; Design</td>\n",
       "      <td>August 1, 2018</td>\n",
       "      <td>1.2.4</td>\n",
       "      <td>4.0.3 and up</td>\n",
       "    </tr>\n",
       "    <tr>\n",
       "      <th>3</th>\n",
       "      <td>Sketch - Draw &amp; Paint</td>\n",
       "      <td>ART_AND_DESIGN</td>\n",
       "      <td>4.5</td>\n",
       "      <td>215644</td>\n",
       "      <td>25M</td>\n",
       "      <td>50,000,000+</td>\n",
       "      <td>Free</td>\n",
       "      <td>0</td>\n",
       "      <td>Teen</td>\n",
       "      <td>Art &amp; Design</td>\n",
       "      <td>June 8, 2018</td>\n",
       "      <td>Varies with device</td>\n",
       "      <td>4.2 and up</td>\n",
       "    </tr>\n",
       "    <tr>\n",
       "      <th>4</th>\n",
       "      <td>Pixel Draw - Number Art Coloring Book</td>\n",
       "      <td>ART_AND_DESIGN</td>\n",
       "      <td>4.3</td>\n",
       "      <td>967</td>\n",
       "      <td>2.8M</td>\n",
       "      <td>100,000+</td>\n",
       "      <td>Free</td>\n",
       "      <td>0</td>\n",
       "      <td>Everyone</td>\n",
       "      <td>Art &amp; Design;Creativity</td>\n",
       "      <td>June 20, 2018</td>\n",
       "      <td>1.1</td>\n",
       "      <td>4.4 and up</td>\n",
       "    </tr>\n",
       "  </tbody>\n",
       "</table>\n",
       "</div>"
      ],
      "text/plain": [
       "                                                 App        Category  Rating  \\\n",
       "0     Photo Editor & Candy Camera & Grid & ScrapBook  ART_AND_DESIGN     4.1   \n",
       "1                                Coloring book moana  ART_AND_DESIGN     3.9   \n",
       "2  U Launcher Lite – FREE Live Cool Themes, Hide ...  ART_AND_DESIGN     4.7   \n",
       "3                              Sketch - Draw & Paint  ART_AND_DESIGN     4.5   \n",
       "4              Pixel Draw - Number Art Coloring Book  ART_AND_DESIGN     4.3   \n",
       "\n",
       "  Reviews  Size     Installs  Type Price Content Rating  \\\n",
       "0     159   19M      10,000+  Free     0       Everyone   \n",
       "1     967   14M     500,000+  Free     0       Everyone   \n",
       "2   87510  8.7M   5,000,000+  Free     0       Everyone   \n",
       "3  215644   25M  50,000,000+  Free     0           Teen   \n",
       "4     967  2.8M     100,000+  Free     0       Everyone   \n",
       "\n",
       "                      Genres      Last Updated         Current Ver  \\\n",
       "0               Art & Design   January 7, 2018               1.0.0   \n",
       "1  Art & Design;Pretend Play  January 15, 2018               2.0.0   \n",
       "2               Art & Design    August 1, 2018               1.2.4   \n",
       "3               Art & Design      June 8, 2018  Varies with device   \n",
       "4    Art & Design;Creativity     June 20, 2018                 1.1   \n",
       "\n",
       "    Android Ver  \n",
       "0  4.0.3 and up  \n",
       "1  4.0.3 and up  \n",
       "2  4.0.3 and up  \n",
       "3    4.2 and up  \n",
       "4    4.4 and up  "
      ]
     },
     "execution_count": 4,
     "metadata": {},
     "output_type": "execute_result"
    }
   ],
   "source": [
    "# Checking the first 5 rows\n",
    "df.head()"
   ]
  },
  {
   "cell_type": "code",
   "execution_count": 5,
   "metadata": {
    "colab": {
     "base_uri": "https://localhost:8080/",
     "height": 320
    },
    "id": "TUAzv9YE7oGP",
    "outputId": "0c882ad5-1300-4b5c-93b8-6e4b65297fcd"
   },
   "outputs": [
    {
     "data": {
      "text/html": [
       "<div>\n",
       "<style scoped>\n",
       "    .dataframe tbody tr th:only-of-type {\n",
       "        vertical-align: middle;\n",
       "    }\n",
       "\n",
       "    .dataframe tbody tr th {\n",
       "        vertical-align: top;\n",
       "    }\n",
       "\n",
       "    .dataframe thead th {\n",
       "        text-align: right;\n",
       "    }\n",
       "</style>\n",
       "<table border=\"1\" class=\"dataframe\">\n",
       "  <thead>\n",
       "    <tr style=\"text-align: right;\">\n",
       "      <th></th>\n",
       "      <th>App</th>\n",
       "      <th>Category</th>\n",
       "      <th>Rating</th>\n",
       "      <th>Reviews</th>\n",
       "      <th>Size</th>\n",
       "      <th>Installs</th>\n",
       "      <th>Type</th>\n",
       "      <th>Price</th>\n",
       "      <th>Content Rating</th>\n",
       "      <th>Genres</th>\n",
       "      <th>Last Updated</th>\n",
       "      <th>Current Ver</th>\n",
       "      <th>Android Ver</th>\n",
       "    </tr>\n",
       "  </thead>\n",
       "  <tbody>\n",
       "    <tr>\n",
       "      <th>10836</th>\n",
       "      <td>Sya9a Maroc - FR</td>\n",
       "      <td>FAMILY</td>\n",
       "      <td>4.5</td>\n",
       "      <td>38</td>\n",
       "      <td>53M</td>\n",
       "      <td>5,000+</td>\n",
       "      <td>Free</td>\n",
       "      <td>0</td>\n",
       "      <td>Everyone</td>\n",
       "      <td>Education</td>\n",
       "      <td>July 25, 2017</td>\n",
       "      <td>1.48</td>\n",
       "      <td>4.1 and up</td>\n",
       "    </tr>\n",
       "    <tr>\n",
       "      <th>10837</th>\n",
       "      <td>Fr. Mike Schmitz Audio Teachings</td>\n",
       "      <td>FAMILY</td>\n",
       "      <td>5.0</td>\n",
       "      <td>4</td>\n",
       "      <td>3.6M</td>\n",
       "      <td>100+</td>\n",
       "      <td>Free</td>\n",
       "      <td>0</td>\n",
       "      <td>Everyone</td>\n",
       "      <td>Education</td>\n",
       "      <td>July 6, 2018</td>\n",
       "      <td>1.0</td>\n",
       "      <td>4.1 and up</td>\n",
       "    </tr>\n",
       "    <tr>\n",
       "      <th>10838</th>\n",
       "      <td>Parkinson Exercices FR</td>\n",
       "      <td>MEDICAL</td>\n",
       "      <td>NaN</td>\n",
       "      <td>3</td>\n",
       "      <td>9.5M</td>\n",
       "      <td>1,000+</td>\n",
       "      <td>Free</td>\n",
       "      <td>0</td>\n",
       "      <td>Everyone</td>\n",
       "      <td>Medical</td>\n",
       "      <td>January 20, 2017</td>\n",
       "      <td>1.0</td>\n",
       "      <td>2.2 and up</td>\n",
       "    </tr>\n",
       "    <tr>\n",
       "      <th>10839</th>\n",
       "      <td>The SCP Foundation DB fr nn5n</td>\n",
       "      <td>BOOKS_AND_REFERENCE</td>\n",
       "      <td>4.5</td>\n",
       "      <td>114</td>\n",
       "      <td>Varies with device</td>\n",
       "      <td>1,000+</td>\n",
       "      <td>Free</td>\n",
       "      <td>0</td>\n",
       "      <td>Mature 17+</td>\n",
       "      <td>Books &amp; Reference</td>\n",
       "      <td>January 19, 2015</td>\n",
       "      <td>Varies with device</td>\n",
       "      <td>Varies with device</td>\n",
       "    </tr>\n",
       "    <tr>\n",
       "      <th>10840</th>\n",
       "      <td>iHoroscope - 2018 Daily Horoscope &amp; Astrology</td>\n",
       "      <td>LIFESTYLE</td>\n",
       "      <td>4.5</td>\n",
       "      <td>398307</td>\n",
       "      <td>19M</td>\n",
       "      <td>10,000,000+</td>\n",
       "      <td>Free</td>\n",
       "      <td>0</td>\n",
       "      <td>Everyone</td>\n",
       "      <td>Lifestyle</td>\n",
       "      <td>July 25, 2018</td>\n",
       "      <td>Varies with device</td>\n",
       "      <td>Varies with device</td>\n",
       "    </tr>\n",
       "  </tbody>\n",
       "</table>\n",
       "</div>"
      ],
      "text/plain": [
       "                                                 App             Category  \\\n",
       "10836                               Sya9a Maroc - FR               FAMILY   \n",
       "10837               Fr. Mike Schmitz Audio Teachings               FAMILY   \n",
       "10838                         Parkinson Exercices FR              MEDICAL   \n",
       "10839                  The SCP Foundation DB fr nn5n  BOOKS_AND_REFERENCE   \n",
       "10840  iHoroscope - 2018 Daily Horoscope & Astrology            LIFESTYLE   \n",
       "\n",
       "       Rating Reviews                Size     Installs  Type Price  \\\n",
       "10836     4.5      38                 53M       5,000+  Free     0   \n",
       "10837     5.0       4                3.6M         100+  Free     0   \n",
       "10838     NaN       3                9.5M       1,000+  Free     0   \n",
       "10839     4.5     114  Varies with device       1,000+  Free     0   \n",
       "10840     4.5  398307                 19M  10,000,000+  Free     0   \n",
       "\n",
       "      Content Rating             Genres      Last Updated         Current Ver  \\\n",
       "10836       Everyone          Education     July 25, 2017                1.48   \n",
       "10837       Everyone          Education      July 6, 2018                 1.0   \n",
       "10838       Everyone            Medical  January 20, 2017                 1.0   \n",
       "10839     Mature 17+  Books & Reference  January 19, 2015  Varies with device   \n",
       "10840       Everyone          Lifestyle     July 25, 2018  Varies with device   \n",
       "\n",
       "              Android Ver  \n",
       "10836          4.1 and up  \n",
       "10837          4.1 and up  \n",
       "10838          2.2 and up  \n",
       "10839  Varies with device  \n",
       "10840  Varies with device  "
      ]
     },
     "execution_count": 5,
     "metadata": {},
     "output_type": "execute_result"
    }
   ],
   "source": [
    "# Checking the last 5 rows\n",
    "df.tail()"
   ]
  },
  {
   "cell_type": "code",
   "execution_count": 6,
   "metadata": {
    "colab": {
     "base_uri": "https://localhost:8080/"
    },
    "id": "XYELzrli8gzz",
    "outputId": "7e91b33a-821b-4211-eb14-fbff0557f55d"
   },
   "outputs": [
    {
     "name": "stdout",
     "output_type": "stream",
     "text": [
      "<class 'pandas.core.frame.DataFrame'>\n",
      "RangeIndex: 10841 entries, 0 to 10840\n",
      "Data columns (total 13 columns):\n",
      " #   Column          Non-Null Count  Dtype  \n",
      "---  ------          --------------  -----  \n",
      " 0   App             10841 non-null  object \n",
      " 1   Category        10841 non-null  object \n",
      " 2   Rating          9367 non-null   float64\n",
      " 3   Reviews         10841 non-null  object \n",
      " 4   Size            10841 non-null  object \n",
      " 5   Installs        10841 non-null  object \n",
      " 6   Type            10840 non-null  object \n",
      " 7   Price           10841 non-null  object \n",
      " 8   Content Rating  10840 non-null  object \n",
      " 9   Genres          10841 non-null  object \n",
      " 10  Last Updated    10841 non-null  object \n",
      " 11  Current Ver     10833 non-null  object \n",
      " 12  Android Ver     10838 non-null  object \n",
      "dtypes: float64(1), object(12)\n",
      "memory usage: 1.1+ MB\n"
     ]
    }
   ],
   "source": [
    "df.info()"
   ]
  },
  {
   "cell_type": "markdown",
   "metadata": {
    "id": "qHgWQW8NWpnw"
   },
   "source": [
    "Some columns should be of float or integer datatype but are of object datatype instead."
   ]
  },
  {
   "cell_type": "code",
   "execution_count": 7,
   "metadata": {
    "colab": {
     "base_uri": "https://localhost:8080/"
    },
    "id": "HiqvnlAHXDL8",
    "outputId": "dbd971dd-c394-48ef-98fb-891552bfefb3"
   },
   "outputs": [
    {
     "data": {
      "text/plain": [
       "App                  0\n",
       "Category             0\n",
       "Rating            1474\n",
       "Reviews              0\n",
       "Size                 0\n",
       "Installs             0\n",
       "Type                 1\n",
       "Price                0\n",
       "Content Rating       1\n",
       "Genres               0\n",
       "Last Updated         0\n",
       "Current Ver          8\n",
       "Android Ver          3\n",
       "dtype: int64"
      ]
     },
     "execution_count": 7,
     "metadata": {},
     "output_type": "execute_result"
    }
   ],
   "source": [
    "df.isna().sum()"
   ]
  },
  {
   "cell_type": "markdown",
   "metadata": {
    "id": "c4UkVRrJbzhz"
   },
   "source": [
    "There are more than 1400 null values in the Rating column."
   ]
  },
  {
   "cell_type": "code",
   "execution_count": 8,
   "metadata": {
    "colab": {
     "base_uri": "https://localhost:8080/",
     "height": 404
    },
    "id": "GreiraMnBbez",
    "outputId": "47816341-0e9a-4745-ea8b-3d750b9cad60"
   },
   "outputs": [
    {
     "data": {
      "text/plain": [
       "<seaborn.axisgrid.FacetGrid at 0x2a2e0abc610>"
      ]
     },
     "execution_count": 8,
     "metadata": {},
     "output_type": "execute_result"
    },
    {
     "data": {
      "text/plain": [
       "<Figure size 720x432 with 0 Axes>"
      ]
     },
     "metadata": {},
     "output_type": "display_data"
    },
    {
     "data": {
      "image/png": "[encoded data removed]",
      "text/plain": [
       "<Figure size 511.25x360 with 1 Axes>"
      ]
     },
     "metadata": {
      "needs_background": "light"
     },
     "output_type": "display_data"
    }
   ],
   "source": [
    "# Plotting the graph of null values\n",
    "plt.figure(figsize=(10,6))\n",
    "sns.displot(data=df.isna().melt(value_name=\"missing\"),y=\"variable\",hue=\"missing\",multiple=\"fill\",aspect=1.25)"
   ]
  },
  {
   "cell_type": "code",
   "execution_count": 9,
   "metadata": {
    "colab": {
     "base_uri": "https://localhost:8080/"
    },
    "id": "KWIwPglY8DLe",
    "outputId": "e9dbb4d5-6932-40e2-e721-23d8f3e35c1e"
   },
   "outputs": [
    {
     "data": {
      "text/plain": [
       "(10841, 13)"
      ]
     },
     "execution_count": 9,
     "metadata": {},
     "output_type": "execute_result"
    }
   ],
   "source": [
    "# Checking the shape of dataset\n",
    "df.shape"
   ]
  },
  {
   "cell_type": "markdown",
   "metadata": {
    "id": "hcVYMwmAVzuC"
   },
   "source": [
    "There are total 10481 rows and 13 columns."
   ]
  },
  {
   "cell_type": "code",
   "execution_count": 10,
   "metadata": {
    "colab": {
     "base_uri": "https://localhost:8080/"
    },
    "id": "QhDa57Kk8G1j",
    "outputId": "37ed8e79-c40f-48ba-e110-61115ffeedb9"
   },
   "outputs": [
    {
     "data": {
      "text/plain": [
       "483"
      ]
     },
     "execution_count": 10,
     "metadata": {},
     "output_type": "execute_result"
    }
   ],
   "source": [
    "# Checking for duplicate instances/rows in dataset\n",
    "df.duplicated().sum()"
   ]
  },
  {
   "cell_type": "code",
   "execution_count": 11,
   "metadata": {
    "colab": {
     "base_uri": "https://localhost:8080/",
     "height": 1000
    },
    "id": "fErxDf-11sHk",
    "outputId": "581fc775-aa22-495a-d0f5-9deb700767cd"
   },
   "outputs": [
    {
     "data": {
      "text/html": [
       "<div>\n",
       "<style scoped>\n",
       "    .dataframe tbody tr th:only-of-type {\n",
       "        vertical-align: middle;\n",
       "    }\n",
       "\n",
       "    .dataframe tbody tr th {\n",
       "        vertical-align: top;\n",
       "    }\n",
       "\n",
       "    .dataframe thead th {\n",
       "        text-align: right;\n",
       "    }\n",
       "</style>\n",
       "<table border=\"1\" class=\"dataframe\">\n",
       "  <thead>\n",
       "    <tr style=\"text-align: right;\">\n",
       "      <th></th>\n",
       "      <th>App</th>\n",
       "      <th>Category</th>\n",
       "      <th>Rating</th>\n",
       "      <th>Reviews</th>\n",
       "      <th>Size</th>\n",
       "      <th>Installs</th>\n",
       "      <th>Type</th>\n",
       "      <th>Price</th>\n",
       "      <th>Content Rating</th>\n",
       "      <th>Genres</th>\n",
       "      <th>Last Updated</th>\n",
       "      <th>Current Ver</th>\n",
       "      <th>Android Ver</th>\n",
       "    </tr>\n",
       "  </thead>\n",
       "  <tbody>\n",
       "    <tr>\n",
       "      <th>229</th>\n",
       "      <td>Quick PDF Scanner + OCR FREE</td>\n",
       "      <td>BUSINESS</td>\n",
       "      <td>4.2</td>\n",
       "      <td>80805</td>\n",
       "      <td>Varies with device</td>\n",
       "      <td>5,000,000+</td>\n",
       "      <td>Free</td>\n",
       "      <td>0</td>\n",
       "      <td>Everyone</td>\n",
       "      <td>Business</td>\n",
       "      <td>February 26, 2018</td>\n",
       "      <td>Varies with device</td>\n",
       "      <td>4.0.3 and up</td>\n",
       "    </tr>\n",
       "    <tr>\n",
       "      <th>236</th>\n",
       "      <td>Box</td>\n",
       "      <td>BUSINESS</td>\n",
       "      <td>4.2</td>\n",
       "      <td>159872</td>\n",
       "      <td>Varies with device</td>\n",
       "      <td>10,000,000+</td>\n",
       "      <td>Free</td>\n",
       "      <td>0</td>\n",
       "      <td>Everyone</td>\n",
       "      <td>Business</td>\n",
       "      <td>July 31, 2018</td>\n",
       "      <td>Varies with device</td>\n",
       "      <td>Varies with device</td>\n",
       "    </tr>\n",
       "    <tr>\n",
       "      <th>239</th>\n",
       "      <td>Google My Business</td>\n",
       "      <td>BUSINESS</td>\n",
       "      <td>4.4</td>\n",
       "      <td>70991</td>\n",
       "      <td>Varies with device</td>\n",
       "      <td>5,000,000+</td>\n",
       "      <td>Free</td>\n",
       "      <td>0</td>\n",
       "      <td>Everyone</td>\n",
       "      <td>Business</td>\n",
       "      <td>July 24, 2018</td>\n",
       "      <td>2.19.0.204537701</td>\n",
       "      <td>4.4 and up</td>\n",
       "    </tr>\n",
       "    <tr>\n",
       "      <th>256</th>\n",
       "      <td>ZOOM Cloud Meetings</td>\n",
       "      <td>BUSINESS</td>\n",
       "      <td>4.4</td>\n",
       "      <td>31614</td>\n",
       "      <td>37M</td>\n",
       "      <td>10,000,000+</td>\n",
       "      <td>Free</td>\n",
       "      <td>0</td>\n",
       "      <td>Everyone</td>\n",
       "      <td>Business</td>\n",
       "      <td>July 20, 2018</td>\n",
       "      <td>4.1.28165.0716</td>\n",
       "      <td>4.0 and up</td>\n",
       "    </tr>\n",
       "    <tr>\n",
       "      <th>261</th>\n",
       "      <td>join.me - Simple Meetings</td>\n",
       "      <td>BUSINESS</td>\n",
       "      <td>4.0</td>\n",
       "      <td>6989</td>\n",
       "      <td>Varies with device</td>\n",
       "      <td>1,000,000+</td>\n",
       "      <td>Free</td>\n",
       "      <td>0</td>\n",
       "      <td>Everyone</td>\n",
       "      <td>Business</td>\n",
       "      <td>July 16, 2018</td>\n",
       "      <td>4.3.0.508</td>\n",
       "      <td>4.4 and up</td>\n",
       "    </tr>\n",
       "    <tr>\n",
       "      <th>...</th>\n",
       "      <td>...</td>\n",
       "      <td>...</td>\n",
       "      <td>...</td>\n",
       "      <td>...</td>\n",
       "      <td>...</td>\n",
       "      <td>...</td>\n",
       "      <td>...</td>\n",
       "      <td>...</td>\n",
       "      <td>...</td>\n",
       "      <td>...</td>\n",
       "      <td>...</td>\n",
       "      <td>...</td>\n",
       "      <td>...</td>\n",
       "    </tr>\n",
       "    <tr>\n",
       "      <th>8643</th>\n",
       "      <td>Wunderlist: To-Do List &amp; Tasks</td>\n",
       "      <td>PRODUCTIVITY</td>\n",
       "      <td>4.6</td>\n",
       "      <td>404610</td>\n",
       "      <td>Varies with device</td>\n",
       "      <td>10,000,000+</td>\n",
       "      <td>Free</td>\n",
       "      <td>0</td>\n",
       "      <td>Everyone</td>\n",
       "      <td>Productivity</td>\n",
       "      <td>April 6, 2018</td>\n",
       "      <td>Varies with device</td>\n",
       "      <td>Varies with device</td>\n",
       "    </tr>\n",
       "    <tr>\n",
       "      <th>8654</th>\n",
       "      <td>TickTick: To Do List with Reminder, Day Planner</td>\n",
       "      <td>PRODUCTIVITY</td>\n",
       "      <td>4.6</td>\n",
       "      <td>25370</td>\n",
       "      <td>Varies with device</td>\n",
       "      <td>1,000,000+</td>\n",
       "      <td>Free</td>\n",
       "      <td>0</td>\n",
       "      <td>Everyone</td>\n",
       "      <td>Productivity</td>\n",
       "      <td>August 6, 2018</td>\n",
       "      <td>Varies with device</td>\n",
       "      <td>Varies with device</td>\n",
       "    </tr>\n",
       "    <tr>\n",
       "      <th>8658</th>\n",
       "      <td>ColorNote Notepad Notes</td>\n",
       "      <td>PRODUCTIVITY</td>\n",
       "      <td>4.6</td>\n",
       "      <td>2401017</td>\n",
       "      <td>Varies with device</td>\n",
       "      <td>100,000,000+</td>\n",
       "      <td>Free</td>\n",
       "      <td>0</td>\n",
       "      <td>Everyone</td>\n",
       "      <td>Productivity</td>\n",
       "      <td>June 27, 2018</td>\n",
       "      <td>Varies with device</td>\n",
       "      <td>Varies with device</td>\n",
       "    </tr>\n",
       "    <tr>\n",
       "      <th>10049</th>\n",
       "      <td>Airway Ex - Intubate. Anesthetize. Train.</td>\n",
       "      <td>MEDICAL</td>\n",
       "      <td>4.3</td>\n",
       "      <td>123</td>\n",
       "      <td>86M</td>\n",
       "      <td>10,000+</td>\n",
       "      <td>Free</td>\n",
       "      <td>0</td>\n",
       "      <td>Everyone</td>\n",
       "      <td>Medical</td>\n",
       "      <td>June 1, 2018</td>\n",
       "      <td>0.6.88</td>\n",
       "      <td>5.0 and up</td>\n",
       "    </tr>\n",
       "    <tr>\n",
       "      <th>10768</th>\n",
       "      <td>AAFP</td>\n",
       "      <td>MEDICAL</td>\n",
       "      <td>3.8</td>\n",
       "      <td>63</td>\n",
       "      <td>24M</td>\n",
       "      <td>10,000+</td>\n",
       "      <td>Free</td>\n",
       "      <td>0</td>\n",
       "      <td>Everyone</td>\n",
       "      <td>Medical</td>\n",
       "      <td>June 22, 2018</td>\n",
       "      <td>2.3.1</td>\n",
       "      <td>5.0 and up</td>\n",
       "    </tr>\n",
       "  </tbody>\n",
       "</table>\n",
       "<p>483 rows × 13 columns</p>\n",
       "</div>"
      ],
      "text/plain": [
       "                                                   App      Category  Rating  \\\n",
       "229                       Quick PDF Scanner + OCR FREE      BUSINESS     4.2   \n",
       "236                                                Box      BUSINESS     4.2   \n",
       "239                                 Google My Business      BUSINESS     4.4   \n",
       "256                                ZOOM Cloud Meetings      BUSINESS     4.4   \n",
       "261                          join.me - Simple Meetings      BUSINESS     4.0   \n",
       "...                                                ...           ...     ...   \n",
       "8643                    Wunderlist: To-Do List & Tasks  PRODUCTIVITY     4.6   \n",
       "8654   TickTick: To Do List with Reminder, Day Planner  PRODUCTIVITY     4.6   \n",
       "8658                           ColorNote Notepad Notes  PRODUCTIVITY     4.6   \n",
       "10049        Airway Ex - Intubate. Anesthetize. Train.       MEDICAL     4.3   \n",
       "10768                                             AAFP       MEDICAL     3.8   \n",
       "\n",
       "       Reviews                Size      Installs  Type Price Content Rating  \\\n",
       "229      80805  Varies with device    5,000,000+  Free     0       Everyone   \n",
       "236     159872  Varies with device   10,000,000+  Free     0       Everyone   \n",
       "239      70991  Varies with device    5,000,000+  Free     0       Everyone   \n",
       "256      31614                 37M   10,000,000+  Free     0       Everyone   \n",
       "261       6989  Varies with device    1,000,000+  Free     0       Everyone   \n",
       "...        ...                 ...           ...   ...   ...            ...   \n",
       "8643    404610  Varies with device   10,000,000+  Free     0       Everyone   \n",
       "8654     25370  Varies with device    1,000,000+  Free     0       Everyone   \n",
       "8658   2401017  Varies with device  100,000,000+  Free     0       Everyone   \n",
       "10049      123                 86M       10,000+  Free     0       Everyone   \n",
       "10768       63                 24M       10,000+  Free     0       Everyone   \n",
       "\n",
       "             Genres       Last Updated         Current Ver         Android Ver  \n",
       "229        Business  February 26, 2018  Varies with device        4.0.3 and up  \n",
       "236        Business      July 31, 2018  Varies with device  Varies with device  \n",
       "239        Business      July 24, 2018    2.19.0.204537701          4.4 and up  \n",
       "256        Business      July 20, 2018      4.1.28165.0716          4.0 and up  \n",
       "261        Business      July 16, 2018           4.3.0.508          4.4 and up  \n",
       "...             ...                ...                 ...                 ...  \n",
       "8643   Productivity      April 6, 2018  Varies with device  Varies with device  \n",
       "8654   Productivity     August 6, 2018  Varies with device  Varies with device  \n",
       "8658   Productivity      June 27, 2018  Varies with device  Varies with device  \n",
       "10049       Medical       June 1, 2018              0.6.88          5.0 and up  \n",
       "10768       Medical      June 22, 2018               2.3.1          5.0 and up  \n",
       "\n",
       "[483 rows x 13 columns]"
      ]
     },
     "execution_count": 11,
     "metadata": {},
     "output_type": "execute_result"
    }
   ],
   "source": [
    "df.loc[df.duplicated()==True]"
   ]
  },
  {
   "cell_type": "markdown",
   "metadata": {
    "id": "FwqJxNZg1Pzn"
   },
   "source": [
    "There are total 483 duplicates in our dataset, which are of no use."
   ]
  },
  {
   "cell_type": "code",
   "execution_count": 12,
   "metadata": {
    "id": "kp8pWT_B1OVc"
   },
   "outputs": [],
   "source": [
    "# Dropping the duplicate rows\n",
    "df.drop_duplicates(inplace=True)"
   ]
  },
  {
   "cell_type": "code",
   "execution_count": 13,
   "metadata": {
    "colab": {
     "base_uri": "https://localhost:8080/",
     "height": 300
    },
    "id": "eio8TwMW8O6f",
    "outputId": "1ad68d6b-c14f-4616-8bb6-bf4733cc5a16"
   },
   "outputs": [
    {
     "data": {
      "text/html": [
       "<div>\n",
       "<style scoped>\n",
       "    .dataframe tbody tr th:only-of-type {\n",
       "        vertical-align: middle;\n",
       "    }\n",
       "\n",
       "    .dataframe tbody tr th {\n",
       "        vertical-align: top;\n",
       "    }\n",
       "\n",
       "    .dataframe thead th {\n",
       "        text-align: right;\n",
       "    }\n",
       "</style>\n",
       "<table border=\"1\" class=\"dataframe\">\n",
       "  <thead>\n",
       "    <tr style=\"text-align: right;\">\n",
       "      <th></th>\n",
       "      <th>Rating</th>\n",
       "    </tr>\n",
       "  </thead>\n",
       "  <tbody>\n",
       "    <tr>\n",
       "      <th>count</th>\n",
       "      <td>8893.000000</td>\n",
       "    </tr>\n",
       "    <tr>\n",
       "      <th>mean</th>\n",
       "      <td>4.189542</td>\n",
       "    </tr>\n",
       "    <tr>\n",
       "      <th>std</th>\n",
       "      <td>0.545452</td>\n",
       "    </tr>\n",
       "    <tr>\n",
       "      <th>min</th>\n",
       "      <td>1.000000</td>\n",
       "    </tr>\n",
       "    <tr>\n",
       "      <th>25%</th>\n",
       "      <td>4.000000</td>\n",
       "    </tr>\n",
       "    <tr>\n",
       "      <th>50%</th>\n",
       "      <td>4.300000</td>\n",
       "    </tr>\n",
       "    <tr>\n",
       "      <th>75%</th>\n",
       "      <td>4.500000</td>\n",
       "    </tr>\n",
       "    <tr>\n",
       "      <th>max</th>\n",
       "      <td>19.000000</td>\n",
       "    </tr>\n",
       "  </tbody>\n",
       "</table>\n",
       "</div>"
      ],
      "text/plain": [
       "            Rating\n",
       "count  8893.000000\n",
       "mean      4.189542\n",
       "std       0.545452\n",
       "min       1.000000\n",
       "25%       4.000000\n",
       "50%       4.300000\n",
       "75%       4.500000\n",
       "max      19.000000"
      ]
     },
     "execution_count": 13,
     "metadata": {},
     "output_type": "execute_result"
    }
   ],
   "source": [
    "# Checking the descriptive statistics\n",
    "df.describe()"
   ]
  },
  {
   "cell_type": "code",
   "execution_count": 14,
   "metadata": {
    "colab": {
     "base_uri": "https://localhost:8080/"
    },
    "id": "kmnMhM-14NE4",
    "outputId": "cf2d0780-e187-49d0-8c17-62f82b554b6c"
   },
   "outputs": [
    {
     "data": {
      "text/plain": [
       "App               9660\n",
       "Category            34\n",
       "Rating              40\n",
       "Reviews           6002\n",
       "Size               462\n",
       "Installs            22\n",
       "Type                 3\n",
       "Price               93\n",
       "Content Rating       6\n",
       "Genres             120\n",
       "Last Updated      1378\n",
       "Current Ver       2832\n",
       "Android Ver         33\n",
       "dtype: int64"
      ]
     },
     "execution_count": 14,
     "metadata": {},
     "output_type": "execute_result"
    }
   ],
   "source": [
    "# Checking the number of unique values in columns\n",
    "df.nunique()"
   ]
  },
  {
   "cell_type": "code",
   "execution_count": 15,
   "metadata": {
    "colab": {
     "base_uri": "https://localhost:8080/"
    },
    "id": "QlUl1UB36oww",
    "outputId": "f9cb55ab-a24e-41af-a54e-98439283a478"
   },
   "outputs": [
    {
     "data": {
      "text/plain": [
       "Index(['ROBLOX', '8 Ball Pool', 'Zombie Catchers', 'Helix Jump',\n",
       "       'Bubble Shooter', 'Temple Run 2', 'Bowmasters', 'Zombie Tsunami',\n",
       "       'Farm Heroes Saga', 'Duolingo: Learn Languages Free',\n",
       "       ...\n",
       "       'Google Translate', 'Vigo Video', 'Minecraft', 'Facebook Lite',\n",
       "       'Google Docs', 'Castle Clash: Heroes of the Empire US',\n",
       "       'realestate.com.au - Buy, Rent & Sell Property', 'Toy Blast',\n",
       "       'Diary with lock', 'PayPal'],\n",
       "      dtype='object', length=523)"
      ]
     },
     "execution_count": 15,
     "metadata": {},
     "output_type": "execute_result"
    }
   ],
   "source": [
    "# Checking the rows in which name of the apps are repeating.\n",
    "df[\"App\"].value_counts().loc[lambda x: x>1].index # Apps which are repeating more than 1 time"
   ]
  },
  {
   "cell_type": "markdown",
   "metadata": {
    "id": "minpXJI3V8oC"
   },
   "source": [
    "Total 523 Apps are there with repeated names."
   ]
  },
  {
   "cell_type": "code",
   "execution_count": 16,
   "metadata": {
    "colab": {
     "base_uri": "https://localhost:8080/",
     "height": 269
    },
    "id": "7v93Oxgh6xpT",
    "outputId": "63fb6ca4-4d0c-4378-bf46-8379573d812a"
   },
   "outputs": [
    {
     "data": {
      "text/html": [
       "<div>\n",
       "<style scoped>\n",
       "    .dataframe tbody tr th:only-of-type {\n",
       "        vertical-align: middle;\n",
       "    }\n",
       "\n",
       "    .dataframe tbody tr th {\n",
       "        vertical-align: top;\n",
       "    }\n",
       "\n",
       "    .dataframe thead th {\n",
       "        text-align: right;\n",
       "    }\n",
       "</style>\n",
       "<table border=\"1\" class=\"dataframe\">\n",
       "  <thead>\n",
       "    <tr style=\"text-align: right;\">\n",
       "      <th></th>\n",
       "      <th>App</th>\n",
       "      <th>Category</th>\n",
       "      <th>Rating</th>\n",
       "      <th>Reviews</th>\n",
       "      <th>Size</th>\n",
       "      <th>Installs</th>\n",
       "      <th>Type</th>\n",
       "      <th>Price</th>\n",
       "      <th>Content Rating</th>\n",
       "      <th>Genres</th>\n",
       "      <th>Last Updated</th>\n",
       "      <th>Current Ver</th>\n",
       "      <th>Android Ver</th>\n",
       "    </tr>\n",
       "  </thead>\n",
       "  <tbody>\n",
       "    <tr>\n",
       "      <th>1675</th>\n",
       "      <td>8 Ball Pool</td>\n",
       "      <td>GAME</td>\n",
       "      <td>4.5</td>\n",
       "      <td>14198297</td>\n",
       "      <td>52M</td>\n",
       "      <td>100,000,000+</td>\n",
       "      <td>Free</td>\n",
       "      <td>0</td>\n",
       "      <td>Everyone</td>\n",
       "      <td>Sports</td>\n",
       "      <td>July 31, 2018</td>\n",
       "      <td>4.0.0</td>\n",
       "      <td>4.0.3 and up</td>\n",
       "    </tr>\n",
       "    <tr>\n",
       "      <th>1703</th>\n",
       "      <td>8 Ball Pool</td>\n",
       "      <td>GAME</td>\n",
       "      <td>4.5</td>\n",
       "      <td>14198602</td>\n",
       "      <td>52M</td>\n",
       "      <td>100,000,000+</td>\n",
       "      <td>Free</td>\n",
       "      <td>0</td>\n",
       "      <td>Everyone</td>\n",
       "      <td>Sports</td>\n",
       "      <td>July 31, 2018</td>\n",
       "      <td>4.0.0</td>\n",
       "      <td>4.0.3 and up</td>\n",
       "    </tr>\n",
       "    <tr>\n",
       "      <th>1755</th>\n",
       "      <td>8 Ball Pool</td>\n",
       "      <td>GAME</td>\n",
       "      <td>4.5</td>\n",
       "      <td>14200344</td>\n",
       "      <td>52M</td>\n",
       "      <td>100,000,000+</td>\n",
       "      <td>Free</td>\n",
       "      <td>0</td>\n",
       "      <td>Everyone</td>\n",
       "      <td>Sports</td>\n",
       "      <td>July 31, 2018</td>\n",
       "      <td>4.0.0</td>\n",
       "      <td>4.0.3 and up</td>\n",
       "    </tr>\n",
       "    <tr>\n",
       "      <th>1844</th>\n",
       "      <td>8 Ball Pool</td>\n",
       "      <td>GAME</td>\n",
       "      <td>4.5</td>\n",
       "      <td>14200550</td>\n",
       "      <td>52M</td>\n",
       "      <td>100,000,000+</td>\n",
       "      <td>Free</td>\n",
       "      <td>0</td>\n",
       "      <td>Everyone</td>\n",
       "      <td>Sports</td>\n",
       "      <td>July 31, 2018</td>\n",
       "      <td>4.0.0</td>\n",
       "      <td>4.0.3 and up</td>\n",
       "    </tr>\n",
       "    <tr>\n",
       "      <th>1871</th>\n",
       "      <td>8 Ball Pool</td>\n",
       "      <td>GAME</td>\n",
       "      <td>4.5</td>\n",
       "      <td>14201891</td>\n",
       "      <td>52M</td>\n",
       "      <td>100,000,000+</td>\n",
       "      <td>Free</td>\n",
       "      <td>0</td>\n",
       "      <td>Everyone</td>\n",
       "      <td>Sports</td>\n",
       "      <td>July 31, 2018</td>\n",
       "      <td>4.0.0</td>\n",
       "      <td>4.0.3 and up</td>\n",
       "    </tr>\n",
       "    <tr>\n",
       "      <th>1970</th>\n",
       "      <td>8 Ball Pool</td>\n",
       "      <td>GAME</td>\n",
       "      <td>4.5</td>\n",
       "      <td>14201604</td>\n",
       "      <td>52M</td>\n",
       "      <td>100,000,000+</td>\n",
       "      <td>Free</td>\n",
       "      <td>0</td>\n",
       "      <td>Everyone</td>\n",
       "      <td>Sports</td>\n",
       "      <td>July 31, 2018</td>\n",
       "      <td>4.0.0</td>\n",
       "      <td>4.0.3 and up</td>\n",
       "    </tr>\n",
       "    <tr>\n",
       "      <th>3953</th>\n",
       "      <td>8 Ball Pool</td>\n",
       "      <td>SPORTS</td>\n",
       "      <td>4.5</td>\n",
       "      <td>14184910</td>\n",
       "      <td>52M</td>\n",
       "      <td>100,000,000+</td>\n",
       "      <td>Free</td>\n",
       "      <td>0</td>\n",
       "      <td>Everyone</td>\n",
       "      <td>Sports</td>\n",
       "      <td>July 31, 2018</td>\n",
       "      <td>4.0.0</td>\n",
       "      <td>4.0.3 and up</td>\n",
       "    </tr>\n",
       "  </tbody>\n",
       "</table>\n",
       "</div>"
      ],
      "text/plain": [
       "              App Category  Rating   Reviews Size      Installs  Type Price  \\\n",
       "1675  8 Ball Pool     GAME     4.5  14198297  52M  100,000,000+  Free     0   \n",
       "1703  8 Ball Pool     GAME     4.5  14198602  52M  100,000,000+  Free     0   \n",
       "1755  8 Ball Pool     GAME     4.5  14200344  52M  100,000,000+  Free     0   \n",
       "1844  8 Ball Pool     GAME     4.5  14200550  52M  100,000,000+  Free     0   \n",
       "1871  8 Ball Pool     GAME     4.5  14201891  52M  100,000,000+  Free     0   \n",
       "1970  8 Ball Pool     GAME     4.5  14201604  52M  100,000,000+  Free     0   \n",
       "3953  8 Ball Pool   SPORTS     4.5  14184910  52M  100,000,000+  Free     0   \n",
       "\n",
       "     Content Rating  Genres   Last Updated Current Ver   Android Ver  \n",
       "1675       Everyone  Sports  July 31, 2018       4.0.0  4.0.3 and up  \n",
       "1703       Everyone  Sports  July 31, 2018       4.0.0  4.0.3 and up  \n",
       "1755       Everyone  Sports  July 31, 2018       4.0.0  4.0.3 and up  \n",
       "1844       Everyone  Sports  July 31, 2018       4.0.0  4.0.3 and up  \n",
       "1871       Everyone  Sports  July 31, 2018       4.0.0  4.0.3 and up  \n",
       "1970       Everyone  Sports  July 31, 2018       4.0.0  4.0.3 and up  \n",
       "3953       Everyone  Sports  July 31, 2018       4.0.0  4.0.3 and up  "
      ]
     },
     "execution_count": 16,
     "metadata": {},
     "output_type": "execute_result"
    }
   ],
   "source": [
    "# Showing the rows with the same app name (8 Ball Pool)\n",
    "df.loc[df[\"App\"]==\"8 Ball Pool\"]"
   ]
  },
  {
   "cell_type": "markdown",
   "metadata": {
    "id": "22hzEM4371Uq"
   },
   "source": [
    "All these rows are of the same app called \"8 Ball Pool\" just with different number of reviews with the little difference."
   ]
  },
  {
   "cell_type": "code",
   "execution_count": 17,
   "metadata": {
    "id": "1lXS-a1gzlsP"
   },
   "outputs": [],
   "source": [
    "# Sorting the dataframe based on Reviews Column in descending order\n",
    "df = df.sort_values(by='Reviews', ascending=False)\n",
    "# There are some duplicates just with the different number of reviews with little difference. Hence, dropping the rows with duplicates and keeping the row with highest number of reviews.\n",
    "df = df.drop_duplicates(subset=[\"App\",\"Current Ver\",\"Rating\",\"Size\",\"Installs\",\"Type\"], keep=\"first\")"
   ]
  },
  {
   "cell_type": "code",
   "execution_count": 18,
   "metadata": {
    "id": "-T5cjOd5bPIz"
   },
   "outputs": [],
   "source": [
    "# After sorting the values the index values are jumbled now resetting the index values.\n",
    "df = df.reset_index(drop=True)"
   ]
  },
  {
   "cell_type": "code",
   "execution_count": 19,
   "metadata": {
    "colab": {
     "base_uri": "https://localhost:8080/"
    },
    "id": "lP0PG1CH8m82",
    "outputId": "67969869-ca63-402f-d9ce-42329c8ec8c1"
   },
   "outputs": [
    {
     "data": {
      "text/plain": [
       "array(['0', '$2.49', '$2.99', '$0.99', '$3.99', '$4.99', '$399.99',\n",
       "       '$1.99', '$79.99', '$7.49', '$4.49', '$9.99', '$5.99', '$13.99',\n",
       "       '$4.29', '$1.70', '$14.99', '$1.49', '$12.99', '$19.99', '$1.50',\n",
       "       '$3.49', '$1.29', '$7.99', '$29.99', '$1.59', '$11.99', '$3.02',\n",
       "       '$39.99', '$89.99', '$6.99', '$2.90', '$1.00', '$19.40', '$5.49',\n",
       "       '$1.75', '$8.99', '$5.00', '$3.08', '$18.99', '$299.99', '$17.99',\n",
       "       '$379.99', '$8.49', '$2.56', '$15.46', '$2.95', '$1.97',\n",
       "       'Everyone', '$19.90', '$1.26', '$4.80', '$2.60', '$24.99', '$4.77',\n",
       "       '$400.00', '$16.99', '$10.99', '$4.59', '$389.99', '$33.99',\n",
       "       '$46.99', '$1.76', '$3.90', '$2.00', '$2.50', '$10.00', '$14.00',\n",
       "       '$3.95', '$6.49', '$3.28', '$1.20', '$2.59', '$4.84', '$37.99',\n",
       "       '$1.61', '$4.60', '$9.00', '$15.99', '$74.99', '$3.88', '$4.85',\n",
       "       '$3.04', '$1.04', '$1.96', '$28.99', '$30.99', '$25.99', '$394.99',\n",
       "       '$3.61', '$109.99', '$200.00', '$154.99'], dtype=object)"
      ]
     },
     "execution_count": 19,
     "metadata": {},
     "output_type": "execute_result"
    }
   ],
   "source": [
    "# Checking the total unique values in column Price\n",
    "df[\"Price\"].unique()"
   ]
  },
  {
   "cell_type": "code",
   "execution_count": 20,
   "metadata": {
    "id": "8qzXdzCGWdMl"
   },
   "outputs": [],
   "source": [
    "# Dropping a row with mismatched values\n",
    "df.drop(df.loc[df[\"Price\"]==\"Everyone\"].index,inplace=True)"
   ]
  },
  {
   "cell_type": "code",
   "execution_count": 21,
   "metadata": {
    "id": "ZQ0WHQ4IWwGz"
   },
   "outputs": [],
   "source": [
    "# Converting the Price column to float datatype by removing the prefix '$'\n",
    "df[\"Price\"]=df[\"Price\"].str.strip(\"$\")"
   ]
  },
  {
   "cell_type": "code",
   "execution_count": 22,
   "metadata": {
    "id": "6MdI2fKRcmD7"
   },
   "outputs": [],
   "source": [
    "# Typecasting the Price column\n",
    "df[\"Price\"]= df[\"Price\"].astype(\"float64\")"
   ]
  },
  {
   "cell_type": "code",
   "execution_count": 23,
   "metadata": {
    "id": "sJlCCSiFc0CD"
   },
   "outputs": [],
   "source": [
    "# Typecasting the Reviews column\n",
    "df[\"Reviews\"]=df[\"Reviews\"].astype(\"int64\")"
   ]
  },
  {
   "cell_type": "code",
   "execution_count": 24,
   "metadata": {
    "colab": {
     "base_uri": "https://localhost:8080/"
    },
    "id": "xABsA_OuXtlt",
    "outputId": "00fc51f7-d400-4c12-808b-48cafe15c467"
   },
   "outputs": [
    {
     "data": {
      "text/plain": [
       "array(['31M', '91k', '18M', '22M', '33M', 'Varies with device', '5.5M',\n",
       "       '10M', '38M', '3.7M', '96M', '15M', '97M', '2.9M', '2.8M', '3.9M',\n",
       "       '49M', '3.2M', '75M', '9.4M', '71M', '6.6M', '19M', '1.1M', '13M',\n",
       "       '63M', '2.7M', '39M', '51M', '74M', '99M', '27M', '40M', '59M',\n",
       "       '4.5M', '37M', '55M', '16M', '70M', '7.2M', '73k', '2.0M', '9.7M',\n",
       "       '6.3M', '3.4M', '720k', '9.9M', '14M', '7.9M', '45M', '20M',\n",
       "       '6.7M', '1.3M', '87M', '8.9M', '598k', '3.5M', '2.6M', '1.9M',\n",
       "       '23M', '26M', '3.6M', '30M', '5.1M', '53M', '9.0M', '93k', '4.1M',\n",
       "       '28M', '25M', '2.5M', '3.8M', '1.0M', '54M', '79M', '12M', '1.5M',\n",
       "       '5.8M', '82M', '4.7M', '58M', '7.6M', '61M', '7.0M', '64M', '3.1M',\n",
       "       '118k', '696k', '44M', '411k', '1.2M', '17M', '60M', '57M', '43M',\n",
       "       '21M', '11M', '9.3M', '6.5M', '3.0M', '1.7M', '6.1M', '387k',\n",
       "       '8.7M', '9.2M', '35M', '7.3M', '5.4M', '5.0M', '98M', '5.6M',\n",
       "       '1.6M', '5.7M', '924k', '36M', '2.4M', '383k', '8.6M', '56M',\n",
       "       '4.3M', '67M', '2.1M', '552k', '47M', '5.9M', '32M', '80M', '70k',\n",
       "       '4.0M', '76M', '6.0M', '335k', '8.3M', '24M', '42M', '196k', '84M',\n",
       "       '4.6M', '1.8M', '323k', '8.8M', '3.3M', '8.4M', '77M', '51k',\n",
       "       '4.2M', '169k', '780k', '4.9M', '6.8M', '992k', '4.8M', '95M',\n",
       "       '2.3M', '6.9M', '29M', '6.4M', '939k', '34M', '73M', '7.4M',\n",
       "       '9.6M', '8.0M', '7.7M', '41M', '5.3M', '66M', '9.1M', '68M',\n",
       "       '8.5M', '309k', '7.5M', '9.5M', '46M', '91M', '459k', '601k',\n",
       "       '78M', '88M', '48M', '92M', '85M', '414k', '8.2M', '4.4M', '62M',\n",
       "       '50M', '7.8M', '93M', '52M', '2.2M', '658k', '8.1M', '6.2M',\n",
       "       '749k', '364k', '201k', '72M', '812k', '375k', '787k', '322k',\n",
       "       '7.1M', '292k', '83M', '1.4M', '69M', '329k', '544k', '412k',\n",
       "       '691k', '308k', '192k', '9.8M', '39k', '5.2M', '81M', '81k',\n",
       "       '853k', '444k', '334k', '951k', '61k', '865k', '72k', '232k',\n",
       "       '65M', '499k', '809k', '17k', '728k', '556k', '90M', '100M',\n",
       "       '470k', '54k', '837k', '417k', '175k', '592k', '458k', '89k',\n",
       "       '234k', '41k', '18k', '704k', '314k', '28k', '89M', '903k', '94M',\n",
       "       '186k', '259k', '245k', '288k', '506k', '430k', '629k', '636k',\n",
       "       '861k', '902k', '597k', '420k', '58k', '29k', '965k', '270k',\n",
       "       '26k', '879k', '161k', '562k', '86M', '176k', '842k', '609k',\n",
       "       '920k', '619k', '526k', '34k', '656k', '554k', '930k', '986k',\n",
       "       '353k', '318k', '306k', '23k', '33k', '569k', '840k', '892k',\n",
       "       '511k', '498k', '881k', '251k', '122k', '916k', '24k', '862k',\n",
       "       '266k', '756k', '676k', '473k', '280k', '857k', '141k', '467k',\n",
       "       '313k', '914k', '437k', '239k', '25k', '74k', '208k', '206k',\n",
       "       '228k', '454k', '540k', '887k', '14k', '721k', '108k', '948k',\n",
       "       '961k', '97k', '55k', '154k', '319k', '10.0M', '585k', '153k',\n",
       "       '818k', '121k', '785k', '772k', '600k', '647k', '714k', '50k',\n",
       "       '193k', '975k', '203k', '160k', '626k', '976k', '478k', '44k',\n",
       "       '872k', '860k', '173k', '8.5k', '221k', '954k', '283k', '351k',\n",
       "       '371k', '801k', '545k', '82k', '982k', '953k', '811k', '899k',\n",
       "       '103k', '210k', '376k', '200k', '78k', '730k', '116k', '11k',\n",
       "       '957k', '705k', '970k', '981k', '238k', '219k', '716k', '317k',\n",
       "       '48k', '496k', '994k', '816k', '525k', '963k', '246k', '523k',\n",
       "       '157k', '67k', '170k', '144k', '293k', '743k', '779k', '257k',\n",
       "       '373k', '253k', '460k', '164k', '784k', '20k', '240k', '226k',\n",
       "       '442k', '485k', '209k', '754k', '400k', '45k', '778k', '429k',\n",
       "       '27k', '143k', '942k', '500k', '624k', '241k', '695k', '713k',\n",
       "       '79k', '980k', '782k', '775k', '613k', '582k', '350k', '746k',\n",
       "       '551k', '608k', '220k', '190k', '404k', '847k', '643k', '516k',\n",
       "       '717k', '378k', '514k', '421k', '663k', '921k', '874k', '683k',\n",
       "       '655k', '237k', '172k', '885k', '940k', '1020k', '549k', '913k',\n",
       "       '269k', '642k', '518k', '475k', '243k', '898k', '904k', '222k',\n",
       "       '191k', '688k'], dtype=object)"
      ]
     },
     "execution_count": 24,
     "metadata": {},
     "output_type": "execute_result"
    }
   ],
   "source": [
    "# Checking the total unique values in column Size.\n",
    "df[\"Size\"].unique()"
   ]
  },
  {
   "cell_type": "markdown",
   "metadata": {
    "id": "QxmGAyyUXYX8"
   },
   "source": [
    "The size of app is broadly divided into 3 categories:-\n",
    "1. Size in mb\n",
    "2. Size in kb\n",
    "3. Varies with device."
   ]
  },
  {
   "cell_type": "code",
   "execution_count": 25,
   "metadata": {
    "id": "Bz9v3SwhiG2w"
   },
   "outputs": [],
   "source": [
    "# Creating a list of index of rows where app size ending with k.\n",
    "list_kb_apps_index=df.loc[df[\"Size\"].str.endswith(\"k\")].index"
   ]
  },
  {
   "cell_type": "code",
   "execution_count": 26,
   "metadata": {
    "colab": {
     "base_uri": "https://localhost:8080/"
    },
    "id": "DyVpqyVlplSO",
    "outputId": "c8cebd4c-8670-45cb-faf2-7e0d588cceea"
   },
   "outputs": [
    {
     "data": {
      "text/plain": [
       "Int64Index([   1,   50,   56,   78,  101,  151,  152,  154,  175,  210,\n",
       "            ...\n",
       "            9412, 9485, 9512, 9518, 9524, 9540, 9584, 9598, 9651, 9658],\n",
       "           dtype='int64', length=314)"
      ]
     },
     "execution_count": 26,
     "metadata": {},
     "output_type": "execute_result"
    }
   ],
   "source": [
    "list_kb_apps_index"
   ]
  },
  {
   "cell_type": "code",
   "execution_count": 27,
   "metadata": {
    "id": "iA272RHOmwHh"
   },
   "outputs": [],
   "source": [
    "# Converting the Size of apps to megabytes(mb)\n",
    "for index in list_kb_apps_index:\n",
    "    df.at[index,'Size']=str(np.round(float(str(df.loc[index][\"Size\"]).replace(\"k\",\"\"))/1000,3))+\"M\""
   ]
  },
  {
   "cell_type": "code",
   "execution_count": 28,
   "metadata": {
    "id": "brtoSevMy5Pq"
   },
   "outputs": [],
   "source": [
    "# Replacing value (\"Varies with device\") with 0\n",
    "df.loc[df[\"Size\"]==\"Varies with device\",\"Size\"]=str(0)+\"M\""
   ]
  },
  {
   "cell_type": "code",
   "execution_count": 29,
   "metadata": {
    "id": "2I9KxeM1zKbK"
   },
   "outputs": [],
   "source": [
    "# Removing the suffix \"M\" from the column Size.\n",
    "df[\"Size\"]=df[\"Size\"].str.rstrip(\"M\")"
   ]
  },
  {
   "cell_type": "code",
   "execution_count": 30,
   "metadata": {
    "id": "oTgomM0e0TnW"
   },
   "outputs": [],
   "source": [
    "# Typecasting the column Size\n",
    "df[\"Size\"]=df[\"Size\"].astype(\"float64\")"
   ]
  },
  {
   "cell_type": "code",
   "execution_count": 31,
   "metadata": {
    "colab": {
     "base_uri": "https://localhost:8080/"
    },
    "id": "TLG0rnlNbORG",
    "outputId": "377d9d7c-0bd3-4aac-9fc8-abfbb7864fdb"
   },
   "outputs": [
    {
     "data": {
      "text/plain": [
       "array(['1,000,000+', '100,000+', '500,000+', '50,000+', '10,000,000+',\n",
       "       '5,000,000+', '10,000+', '50,000,000+', '100,000,000+', '5,000+',\n",
       "       '1,000+', '1,000,000,000+', '100+', '50+', '500+', '10+',\n",
       "       '500,000,000+', '5+', '1+', '0+', '0'], dtype=object)"
      ]
     },
     "execution_count": 31,
     "metadata": {},
     "output_type": "execute_result"
    }
   ],
   "source": [
    "df[\"Installs\"].unique()"
   ]
  },
  {
   "cell_type": "code",
   "execution_count": 32,
   "metadata": {
    "id": "wI8sq8lQdd2W"
   },
   "outputs": [],
   "source": [
    "# Removing the '+' symbol\n",
    "df[\"Installs\"]=df[\"Installs\"].str.rstrip(\"+\")"
   ]
  },
  {
   "cell_type": "code",
   "execution_count": 33,
   "metadata": {
    "id": "5gNQ1O_Vd8VE"
   },
   "outputs": [],
   "source": [
    "# Removing the ',' from Installs column\n",
    "df[\"Installs\"]=df[\"Installs\"].str.replace(\",\",\"\")"
   ]
  },
  {
   "cell_type": "code",
   "execution_count": 34,
   "metadata": {
    "id": "UWMXa4uadp4P"
   },
   "outputs": [],
   "source": [
    "#Typecasting the Intalls column\n",
    "df[\"Installs\"]=df[\"Installs\"].astype(\"int64\")"
   ]
  },
  {
   "cell_type": "code",
   "execution_count": 35,
   "metadata": {
    "id": "IPVVg-rw1agG"
   },
   "outputs": [],
   "source": [
    "# Typecasting the object column to datetime datatype\n",
    "df[\"Last Updated\"]=df[\"Last Updated\"].astype(\"datetime64\")"
   ]
  },
  {
   "cell_type": "code",
   "execution_count": 36,
   "metadata": {
    "colab": {
     "base_uri": "https://localhost:8080/",
     "height": 206
    },
    "id": "PdCNnpek3VXj",
    "outputId": "ac4c396e-db6f-46da-92d3-57f81d220be3"
   },
   "outputs": [
    {
     "data": {
      "text/html": [
       "<div>\n",
       "<style scoped>\n",
       "    .dataframe tbody tr th:only-of-type {\n",
       "        vertical-align: middle;\n",
       "    }\n",
       "\n",
       "    .dataframe tbody tr th {\n",
       "        vertical-align: top;\n",
       "    }\n",
       "\n",
       "    .dataframe thead th {\n",
       "        text-align: right;\n",
       "    }\n",
       "</style>\n",
       "<table border=\"1\" class=\"dataframe\">\n",
       "  <thead>\n",
       "    <tr style=\"text-align: right;\">\n",
       "      <th></th>\n",
       "      <th>App</th>\n",
       "      <th>Category</th>\n",
       "      <th>Rating</th>\n",
       "      <th>Reviews</th>\n",
       "      <th>Size</th>\n",
       "      <th>Installs</th>\n",
       "      <th>Type</th>\n",
       "      <th>Price</th>\n",
       "      <th>Content Rating</th>\n",
       "      <th>Genres</th>\n",
       "      <th>Last Updated</th>\n",
       "      <th>Current Ver</th>\n",
       "      <th>Android Ver</th>\n",
       "    </tr>\n",
       "  </thead>\n",
       "  <tbody>\n",
       "    <tr>\n",
       "      <th>0</th>\n",
       "      <td>GollerCepte Live Score</td>\n",
       "      <td>SPORTS</td>\n",
       "      <td>4.2</td>\n",
       "      <td>9992</td>\n",
       "      <td>31.000</td>\n",
       "      <td>1000000</td>\n",
       "      <td>Free</td>\n",
       "      <td>0.0</td>\n",
       "      <td>Everyone</td>\n",
       "      <td>Sports</td>\n",
       "      <td>2018-05-23</td>\n",
       "      <td>6.5</td>\n",
       "      <td>4.1 and up</td>\n",
       "    </tr>\n",
       "    <tr>\n",
       "      <th>1</th>\n",
       "      <td>Ad Block REMOVER - NEED ROOT</td>\n",
       "      <td>TOOLS</td>\n",
       "      <td>3.3</td>\n",
       "      <td>999</td>\n",
       "      <td>0.091</td>\n",
       "      <td>100000</td>\n",
       "      <td>Free</td>\n",
       "      <td>0.0</td>\n",
       "      <td>Everyone</td>\n",
       "      <td>Tools</td>\n",
       "      <td>2013-12-17</td>\n",
       "      <td>3.2</td>\n",
       "      <td>2.2 and up</td>\n",
       "    </tr>\n",
       "    <tr>\n",
       "      <th>2</th>\n",
       "      <td>SnipSnap Coupon App</td>\n",
       "      <td>SHOPPING</td>\n",
       "      <td>4.2</td>\n",
       "      <td>9975</td>\n",
       "      <td>18.000</td>\n",
       "      <td>1000000</td>\n",
       "      <td>Free</td>\n",
       "      <td>0.0</td>\n",
       "      <td>Everyone</td>\n",
       "      <td>Shopping</td>\n",
       "      <td>2018-01-22</td>\n",
       "      <td>1.4</td>\n",
       "      <td>4.3 and up</td>\n",
       "    </tr>\n",
       "    <tr>\n",
       "      <th>3</th>\n",
       "      <td>DreamTrips</td>\n",
       "      <td>TRAVEL_AND_LOCAL</td>\n",
       "      <td>4.7</td>\n",
       "      <td>9971</td>\n",
       "      <td>22.000</td>\n",
       "      <td>500000</td>\n",
       "      <td>Free</td>\n",
       "      <td>0.0</td>\n",
       "      <td>Teen</td>\n",
       "      <td>Travel &amp; Local</td>\n",
       "      <td>2018-08-06</td>\n",
       "      <td>1.28.1</td>\n",
       "      <td>5.0 and up</td>\n",
       "    </tr>\n",
       "    <tr>\n",
       "      <th>4</th>\n",
       "      <td>US Open Tennis Championships 2018</td>\n",
       "      <td>SPORTS</td>\n",
       "      <td>4.0</td>\n",
       "      <td>9971</td>\n",
       "      <td>33.000</td>\n",
       "      <td>1000000</td>\n",
       "      <td>Free</td>\n",
       "      <td>0.0</td>\n",
       "      <td>Everyone</td>\n",
       "      <td>Sports</td>\n",
       "      <td>2018-06-05</td>\n",
       "      <td>7.1</td>\n",
       "      <td>5.0 and up</td>\n",
       "    </tr>\n",
       "  </tbody>\n",
       "</table>\n",
       "</div>"
      ],
      "text/plain": [
       "                                 App          Category  Rating  Reviews  \\\n",
       "0             GollerCepte Live Score            SPORTS     4.2     9992   \n",
       "1       Ad Block REMOVER - NEED ROOT             TOOLS     3.3      999   \n",
       "2                SnipSnap Coupon App          SHOPPING     4.2     9975   \n",
       "3                         DreamTrips  TRAVEL_AND_LOCAL     4.7     9971   \n",
       "4  US Open Tennis Championships 2018            SPORTS     4.0     9971   \n",
       "\n",
       "     Size  Installs  Type  Price Content Rating          Genres Last Updated  \\\n",
       "0  31.000   1000000  Free    0.0       Everyone          Sports   2018-05-23   \n",
       "1   0.091    100000  Free    0.0       Everyone           Tools   2013-12-17   \n",
       "2  18.000   1000000  Free    0.0       Everyone        Shopping   2018-01-22   \n",
       "3  22.000    500000  Free    0.0           Teen  Travel & Local   2018-08-06   \n",
       "4  33.000   1000000  Free    0.0       Everyone          Sports   2018-06-05   \n",
       "\n",
       "  Current Ver Android Ver  \n",
       "0         6.5  4.1 and up  \n",
       "1         3.2  2.2 and up  \n",
       "2         1.4  4.3 and up  \n",
       "3      1.28.1  5.0 and up  \n",
       "4         7.1  5.0 and up  "
      ]
     },
     "execution_count": 36,
     "metadata": {},
     "output_type": "execute_result"
    }
   ],
   "source": [
    "# Checking the top 5 rows again\n",
    "df.head()"
   ]
  },
  {
   "cell_type": "code",
   "execution_count": 37,
   "metadata": {
    "colab": {
     "base_uri": "https://localhost:8080/"
    },
    "id": "iQOLo0hg3wla",
    "outputId": "1062c7ca-4252-477e-edac-cab37377b8bd"
   },
   "outputs": [
    {
     "data": {
      "text/plain": [
       "(9688, 13)"
      ]
     },
     "execution_count": 37,
     "metadata": {},
     "output_type": "execute_result"
    }
   ],
   "source": [
    "# Checking the shape of the data\n",
    "df.shape"
   ]
  },
  {
   "cell_type": "markdown",
   "metadata": {
    "id": "-5Xznmvy4rhn"
   },
   "source": [
    "Now the shape of the data has reduced to 9688 rows."
   ]
  },
  {
   "cell_type": "code",
   "execution_count": 38,
   "metadata": {
    "colab": {
     "base_uri": "https://localhost:8080/",
     "height": 300
    },
    "id": "efYTez-S4qje",
    "outputId": "2a877a41-9750-4281-d062-2f009bdca427"
   },
   "outputs": [
    {
     "data": {
      "text/html": [
       "<div>\n",
       "<style scoped>\n",
       "    .dataframe tbody tr th:only-of-type {\n",
       "        vertical-align: middle;\n",
       "    }\n",
       "\n",
       "    .dataframe tbody tr th {\n",
       "        vertical-align: top;\n",
       "    }\n",
       "\n",
       "    .dataframe thead th {\n",
       "        text-align: right;\n",
       "    }\n",
       "</style>\n",
       "<table border=\"1\" class=\"dataframe\">\n",
       "  <thead>\n",
       "    <tr style=\"text-align: right;\">\n",
       "      <th></th>\n",
       "      <th>Rating</th>\n",
       "      <th>Reviews</th>\n",
       "      <th>Size</th>\n",
       "      <th>Installs</th>\n",
       "      <th>Price</th>\n",
       "    </tr>\n",
       "  </thead>\n",
       "  <tbody>\n",
       "    <tr>\n",
       "      <th>count</th>\n",
       "      <td>8224.000</td>\n",
       "      <td>9688.000</td>\n",
       "      <td>9688.000</td>\n",
       "      <td>9688.000</td>\n",
       "      <td>9688.000</td>\n",
       "    </tr>\n",
       "    <tr>\n",
       "      <th>mean</th>\n",
       "      <td>4.174</td>\n",
       "      <td>217224.689</td>\n",
       "      <td>17.799</td>\n",
       "      <td>7802265.537</td>\n",
       "      <td>1.096</td>\n",
       "    </tr>\n",
       "    <tr>\n",
       "      <th>std</th>\n",
       "      <td>0.536</td>\n",
       "      <td>1830270.505</td>\n",
       "      <td>21.484</td>\n",
       "      <td>53699875.336</td>\n",
       "      <td>16.827</td>\n",
       "    </tr>\n",
       "    <tr>\n",
       "      <th>min</th>\n",
       "      <td>1.000</td>\n",
       "      <td>0.000</td>\n",
       "      <td>0.000</td>\n",
       "      <td>0.000</td>\n",
       "      <td>0.000</td>\n",
       "    </tr>\n",
       "    <tr>\n",
       "      <th>25%</th>\n",
       "      <td>4.000</td>\n",
       "      <td>25.000</td>\n",
       "      <td>2.900</td>\n",
       "      <td>1000.000</td>\n",
       "      <td>0.000</td>\n",
       "    </tr>\n",
       "    <tr>\n",
       "      <th>50%</th>\n",
       "      <td>4.300</td>\n",
       "      <td>979.000</td>\n",
       "      <td>9.100</td>\n",
       "      <td>100000.000</td>\n",
       "      <td>0.000</td>\n",
       "    </tr>\n",
       "    <tr>\n",
       "      <th>75%</th>\n",
       "      <td>4.500</td>\n",
       "      <td>29581.500</td>\n",
       "      <td>25.000</td>\n",
       "      <td>1000000.000</td>\n",
       "      <td>0.000</td>\n",
       "    </tr>\n",
       "    <tr>\n",
       "      <th>max</th>\n",
       "      <td>5.000</td>\n",
       "      <td>78158306.000</td>\n",
       "      <td>100.000</td>\n",
       "      <td>1000000000.000</td>\n",
       "      <td>400.000</td>\n",
       "    </tr>\n",
       "  </tbody>\n",
       "</table>\n",
       "</div>"
      ],
      "text/plain": [
       "         Rating       Reviews      Size        Installs     Price\n",
       "count  8224.000      9688.000  9688.000        9688.000  9688.000\n",
       "mean      4.174    217224.689    17.799     7802265.537     1.096\n",
       "std       0.536   1830270.505    21.484    53699875.336    16.827\n",
       "min       1.000         0.000     0.000           0.000     0.000\n",
       "25%       4.000        25.000     2.900        1000.000     0.000\n",
       "50%       4.300       979.000     9.100      100000.000     0.000\n",
       "75%       4.500     29581.500    25.000     1000000.000     0.000\n",
       "max       5.000  78158306.000   100.000  1000000000.000   400.000"
      ]
     },
     "execution_count": 38,
     "metadata": {},
     "output_type": "execute_result"
    }
   ],
   "source": [
    "# Checking the description of data\n",
    "df.describe().apply(lambda s: s.apply('{0:.3f}'.format))"
   ]
  },
  {
   "cell_type": "code",
   "execution_count": 39,
   "metadata": {
    "id": "3LqpLBVI57UH"
   },
   "outputs": [],
   "source": [
    "# Segregating the columns based on whether it is categorical or numerical.\n",
    "categorical_columns=[i for i in df.columns if df[i].dtype==\"O\"]\n",
    "numerical_columns=[i for i in df.columns if df[i].dtype == \"int64\" or df[i].dtype==\"float64\"]\n",
    "date_columns=[i for i in df.columns if df[i].dtype == \"datetime64\"]"
   ]
  },
  {
   "cell_type": "code",
   "execution_count": 40,
   "metadata": {
    "id": "Amx2ZLW035sh"
   },
   "outputs": [],
   "source": [
    "# Function to identify and treat outliers in the dataset.\n",
    "def identifying_treating_outliers(df,col,remove_or_fill_with_quartile=None):\n",
    "    \"\"\" This function will return the lower fence, upper fence and total outliers in the column of a dataframe and in the argument remove_or_fill_with_quartile you can pass drop to drop the outliers(rows) from the dataframe or you can pass fill to fill the lower fence value for outliers which are less than the lower fence and upper fence value for outliers which are greater the upper fence of that column.\"\"\"\n",
    "    q1=df[col].quantile(0.25)\n",
    "    q3=df[col].quantile(0.75)\n",
    "    iqr=q3-q1\n",
    "    lower_fence=q1-1.5*(iqr)\n",
    "    upper_fence=q3+1.5*(iqr)\n",
    "    total_outliers=df[col].loc[df[col]<lower_fence].count() + df[col].loc[df[col]>upper_fence].count()\n",
    "    if remove_or_fill_with_quartile==\"drop\":\n",
    "        df.drop(df.loc[df[col]<lower_fence].index,inplace=True)\n",
    "        df.drop(df.loc[df[col]>upper_fence].index,inplace=True)\n",
    "    elif remove_or_fill_with_quartile==\"fill\":\n",
    "        df[col] = np.where(df[col] < lower_fence, lower_fence, df[col]) # Replacing the outlier value with value of lower fence.\n",
    "        df[col] = np.where(df[col] > upper_fence, upper_fence, df[col]) # Replacing the outlier value with value of upper fence.\n",
    "    elif remove_or_fill_with_quartile==None:\n",
    "        pass\n",
    "    return lower_fence,upper_fence,total_outliers"
   ]
  },
  {
   "cell_type": "code",
   "execution_count": 41,
   "metadata": {
    "colab": {
     "base_uri": "https://localhost:8080/"
    },
    "id": "biqgRutq6CwG",
    "outputId": "9626c8b9-fedd-40ab-9f13-608f4048a3a3"
   },
   "outputs": [
    {
     "name": "stdout",
     "output_type": "stream",
     "text": [
      "Lower fence for the column Rating is 3.25, upper fence is 5.25, total outliers are 492\n",
      "--------------------------------------------------------------------------------------------------\n",
      "Lower fence for the column Reviews is -44309.75, upper fence is 73916.25, total outliers are 1666\n",
      "--------------------------------------------------------------------------------------------------\n",
      "Lower fence for the column Size is -30.250000000000007, upper fence is 58.150000000000006, total outliers are 658\n",
      "--------------------------------------------------------------------------------------------------\n",
      "Lower fence for the column Installs is -1497500.0, upper fence is 2498500.0, total outliers are 1996\n",
      "--------------------------------------------------------------------------------------------------\n",
      "Lower fence for the column Price is 0.0, upper fence is 0.0, total outliers are 756\n",
      "--------------------------------------------------------------------------------------------------\n"
     ]
    }
   ],
   "source": [
    "for col in numerical_columns:\n",
    "    print(f\"Lower fence for the column {col} is {identifying_treating_outliers(df,col)[0]}, upper fence is {identifying_treating_outliers(df,col)[1]}, total outliers are {identifying_treating_outliers(df,col)[2]}\")\n",
    "    print(\"--------------------------------------------------------------------------------------------------\")"
   ]
  },
  {
   "cell_type": "code",
   "execution_count": 42,
   "metadata": {
    "colab": {
     "base_uri": "https://localhost:8080/",
     "height": 1000
    },
    "id": "Ya3biTnI0Dkz",
    "outputId": "57db2918-91e3-41b7-c2b5-c24c5bd94ce3"
   },
   "outputs": [
    {
     "data": {
      "image/png": "[encoded data removed]",
      "text/plain": [
       "<Figure size 432x288 with 1 Axes>"
      ]
     },
     "metadata": {
      "needs_background": "light"
     },
     "output_type": "display_data"
    },
    {
     "data": {
      "image/png": "[encoded data removed]",
      "text/plain": [
       "<Figure size 432x288 with 1 Axes>"
      ]
     },
     "metadata": {
      "needs_background": "light"
     },
     "output_type": "display_data"
    },
    {
     "data": {
      "image/png": "[encoded data removed]",
      "text/plain": [
       "<Figure size 432x288 with 1 Axes>"
      ]
     },
     "metadata": {
      "needs_background": "light"
     },
     "output_type": "display_data"
    },
    {
     "data": {
      "image/png": "[encoded data removed]",
      "text/plain": [
       "<Figure size 432x288 with 1 Axes>"
      ]
     },
     "metadata": {
      "needs_background": "light"
     },
     "output_type": "display_data"
    },
    {
     "data": {
      "image/png": "[encoded data removed]",
      "text/plain": [
       "<Figure size 432x288 with 1 Axes>"
      ]
     },
     "metadata": {
      "needs_background": "light"
     },
     "output_type": "display_data"
    }
   ],
   "source": [
    "# Plotting the graphs to check the outliers\n",
    "for col in numerical_columns:\n",
    "    try:\n",
    "        plt.figure(figsize=(6,4))\n",
    "        sns.boxplot(y=df[col],)\n",
    "        plt.show()\n",
    "    except Exception as e:\n",
    "            print(e)"
   ]
  },
  {
   "cell_type": "code",
   "execution_count": 43,
   "metadata": {
    "colab": {
     "base_uri": "https://localhost:8080/"
    },
    "id": "I3PquF69_4PH",
    "outputId": "f68ac852-8466-4778-ae48-59710b183b66"
   },
   "outputs": [
    {
     "data": {
      "text/plain": [
       "['Rating', 'Reviews', 'Size', 'Installs', 'Price']"
      ]
     },
     "execution_count": 43,
     "metadata": {},
     "output_type": "execute_result"
    }
   ],
   "source": [
    "numerical_columns"
   ]
  },
  {
   "cell_type": "code",
   "execution_count": 44,
   "metadata": {
    "colab": {
     "base_uri": "https://localhost:8080/"
    },
    "id": "vMEK5nibyAuX",
    "outputId": "484d7583-abab-4307-8a0e-576283a06d6d"
   },
   "outputs": [
    {
     "name": "stdout",
     "output_type": "stream",
     "text": [
      "<class 'pandas.core.frame.DataFrame'>\n",
      "Int64Index: 9688 entries, 0 to 9688\n",
      "Data columns (total 13 columns):\n",
      " #   Column          Non-Null Count  Dtype         \n",
      "---  ------          --------------  -----         \n",
      " 0   App             9688 non-null   object        \n",
      " 1   Category        9688 non-null   object        \n",
      " 2   Rating          8224 non-null   float64       \n",
      " 3   Reviews         9688 non-null   int64         \n",
      " 4   Size            9688 non-null   float64       \n",
      " 5   Installs        9688 non-null   int64         \n",
      " 6   Type            9687 non-null   object        \n",
      " 7   Price           9688 non-null   float64       \n",
      " 8   Content Rating  9688 non-null   object        \n",
      " 9   Genres          9688 non-null   object        \n",
      " 10  Last Updated    9688 non-null   datetime64[ns]\n",
      " 11  Current Ver     9680 non-null   object        \n",
      " 12  Android Ver     9686 non-null   object        \n",
      "dtypes: datetime64[ns](1), float64(3), int64(2), object(7)\n",
      "memory usage: 1.3+ MB\n"
     ]
    }
   ],
   "source": [
    "df.info()"
   ]
  },
  {
   "cell_type": "code",
   "execution_count": 45,
   "metadata": {
    "colab": {
     "base_uri": "https://localhost:8080/"
    },
    "id": "nH1X-LYyz1ug",
    "outputId": "4a051e29-f916-4c08-e18a-f77febb5fcee"
   },
   "outputs": [
    {
     "data": {
      "text/plain": [
       "['Rating', 'Reviews', 'Size', 'Installs', 'Price']"
      ]
     },
     "execution_count": 45,
     "metadata": {},
     "output_type": "execute_result"
    }
   ],
   "source": [
    "# Checking the numerical columns.\n",
    "numerical_columns"
   ]
  },
  {
   "cell_type": "code",
   "execution_count": 46,
   "metadata": {
    "colab": {
     "base_uri": "https://localhost:8080/"
    },
    "id": "BBvHC7Jy4oqZ",
    "outputId": "4793a126-b7db-4717-a46b-5567c9e1a885"
   },
   "outputs": [
    {
     "data": {
      "text/plain": [
       "['App',\n",
       " 'Category',\n",
       " 'Type',\n",
       " 'Content Rating',\n",
       " 'Genres',\n",
       " 'Current Ver',\n",
       " 'Android Ver']"
      ]
     },
     "execution_count": 46,
     "metadata": {},
     "output_type": "execute_result"
    }
   ],
   "source": [
    "# Checking the categorical columns.\n",
    "categorical_columns"
   ]
  },
  {
   "cell_type": "markdown",
   "metadata": {
    "id": "v3ZE-q8nGYxF"
   },
   "source": [
    "# **Univariate Analysis**"
   ]
  },
  {
   "cell_type": "markdown",
   "metadata": {
    "id": "e9EVcD7_FiY5"
   },
   "source": [
    "# **Plotting Graphs for Numerical Columns**"
   ]
  },
  {
   "cell_type": "code",
   "execution_count": 47,
   "metadata": {
    "colab": {
     "base_uri": "https://localhost:8080/",
     "height": 1000
    },
    "id": "sMqHjF6_4qAa",
    "outputId": "7732f5cf-6e63-4b95-c37a-57fa5412c828"
   },
   "outputs": [
    {
     "data": {
      "image/png": "[encoded data removed]",
      "text/plain": [
       "<Figure size 432x288 with 1 Axes>"
      ]
     },
     "metadata": {
      "needs_background": "light"
     },
     "output_type": "display_data"
    },
    {
     "data": {
      "image/png": "[encoded data removed]",
      "text/plain": [
       "<Figure size 432x288 with 1 Axes>"
      ]
     },
     "metadata": {
      "needs_background": "light"
     },
     "output_type": "display_data"
    },
    {
     "data": {
      "image/png": "[encoded data removed]",
      "text/plain": [
       "<Figure size 432x288 with 1 Axes>"
      ]
     },
     "metadata": {
      "needs_background": "light"
     },
     "output_type": "display_data"
    },
    {
     "data": {
      "image/png": "[encoded data removed]",
      "text/plain": [
       "<Figure size 432x288 with 1 Axes>"
      ]
     },
     "metadata": {
      "needs_background": "light"
     },
     "output_type": "display_data"
    },
    {
     "data": {
      "image/png": "[encoded data removed]",
      "text/plain": [
       "<Figure size 432x288 with 1 Axes>"
      ]
     },
     "metadata": {
      "needs_background": "light"
     },
     "output_type": "display_data"
    }
   ],
   "source": [
    "#Plotting distribution plot for all numerical columns\n",
    "for col in numerical_columns:\n",
    "    try:\n",
    "        plt.figure(figsize=(6,4))\n",
    "        sns.distplot(df[col])\n",
    "        plt.show()\n",
    "    except Exception as e:\n",
    "            print(e)"
   ]
  },
  {
   "cell_type": "markdown",
   "metadata": {
    "id": "FYlcLWKd4_zO"
   },
   "source": [
    "Rating column is left skewed , rest every numerical column is highly right skewed."
   ]
  },
  {
   "cell_type": "code",
   "execution_count": 48,
   "metadata": {
    "colab": {
     "base_uri": "https://localhost:8080/",
     "height": 367
    },
    "id": "7zOJCIhB-nUE",
    "outputId": "c4629d7f-cffe-403a-a357-94ba474cc9e1"
   },
   "outputs": [
    {
     "data": {
      "image/png": "[encoded data removed]",
      "text/plain": [
       "<Figure size 432x288 with 1 Axes>"
      ]
     },
     "metadata": {
      "needs_background": "light"
     },
     "output_type": "display_data"
    }
   ],
   "source": [
    "sns.countplot(df[\"Installs\"])\n",
    "plt.xticks(rotation=90);"
   ]
  },
  {
   "cell_type": "markdown",
   "metadata": {
    "id": "HP0lJTrV_4tH"
   },
   "source": [
    "1. More than 1400 Apps out of 9688 Apps has more than 1 million installs.\n",
    "2. There are 20 apps with more than 1 Billion (1,000,000,000) installs/downloads."
   ]
  },
  {
   "cell_type": "code",
   "execution_count": 49,
   "metadata": {
    "colab": {
     "base_uri": "https://localhost:8080/",
     "height": 296
    },
    "id": "sYHnajY8WRDl",
    "outputId": "aa19c92e-d29c-4a1a-e341-be006ea1dfb7"
   },
   "outputs": [
    {
     "data": {
      "text/plain": [
       "<AxesSubplot:xlabel='Rating', ylabel='Count'>"
      ]
     },
     "execution_count": 49,
     "metadata": {},
     "output_type": "execute_result"
    },
    {
     "data": {
      "image/png": "[encoded data removed]",
      "text/plain": [
       "<Figure size 432x288 with 1 Axes>"
      ]
     },
     "metadata": {
      "needs_background": "light"
     },
     "output_type": "display_data"
    }
   ],
   "source": [
    "sns.histplot(x=df[\"Rating\"])"
   ]
  },
  {
   "cell_type": "markdown",
   "metadata": {
    "id": "xBNquN7DXKfN"
   },
   "source": [
    "Most of the apps got the rating between 4.0 and 4.7"
   ]
  },
  {
   "cell_type": "markdown",
   "metadata": {
    "id": "5ZqgyF0HFaED"
   },
   "source": [
    "# **Plotting graphs for Categorical Columns** "
   ]
  },
  {
   "cell_type": "code",
   "execution_count": 50,
   "metadata": {
    "colab": {
     "base_uri": "https://localhost:8080/"
    },
    "id": "_kpO05S0RS1E",
    "outputId": "b20e6ffa-8798-4e1e-f6d4-6da9b71ace8d"
   },
   "outputs": [
    {
     "data": {
      "text/plain": [
       "Index(['FAMILY', 'GAME', 'TOOLS', 'BUSINESS', 'MEDICAL', 'PRODUCTIVITY',\n",
       "       'PERSONALIZATION', 'LIFESTYLE', 'FINANCE', 'SPORTS'],\n",
       "      dtype='object')"
      ]
     },
     "execution_count": 50,
     "metadata": {},
     "output_type": "execute_result"
    }
   ],
   "source": [
    "pd.value_counts(df['Category']).iloc[:10].index"
   ]
  },
  {
   "cell_type": "code",
   "execution_count": 51,
   "metadata": {
    "colab": {
     "base_uri": "https://localhost:8080/",
     "height": 487
    },
    "id": "fGb4fFGqCOiL",
    "outputId": "39a5ad09-e178-40ef-f5ca-cf34a121a071"
   },
   "outputs": [
    {
     "data": {
      "image/png": "[encoded data removed]",
      "text/plain": [
       "<Figure size 1080x432 with 1 Axes>"
      ]
     },
     "metadata": {
      "needs_background": "light"
     },
     "output_type": "display_data"
    }
   ],
   "source": [
    "plt.figure(figsize=(15,6))\n",
    "plt.xticks(rotation=90)\n",
    "plt.title(\"Top 10 Categories based on their occurence\")\n",
    "plt.ylim(0, 2000) # Setting the limit of y-axis\n",
    "graph=sns.countplot(x='Category',data=df,order=pd.value_counts(df['Category']).iloc[:10].index)\n",
    "# Annotating values on bars\n",
    "for p in graph.patches:\n",
    "    graph.annotate('{:.0f}'.format(p.get_height()),(p.get_x() + 0.3, p.get_height()),ha='center',va='bottom',color='black')\n",
    "    if p.get_height() == df[\"Category\"].value_counts()[0]:\n",
    "        p.set_color('red')    \n",
    "    else:\n",
    "        p.set_color('grey')"
   ]
  },
  {
   "cell_type": "markdown",
   "metadata": {
    "id": "9r_14PrvTJuZ"
   },
   "source": [
    "In Category column \"FAMILY\" is the highest occuring category with frequency more than 1800."
   ]
  },
  {
   "cell_type": "code",
   "execution_count": 52,
   "metadata": {
    "colab": {
     "base_uri": "https://localhost:8080/",
     "height": 415
    },
    "id": "yHt6EQ_ZxQme",
    "outputId": "4322e7a8-6431-4dd7-94dd-f15ae5121603"
   },
   "outputs": [
    {
     "data": {
      "image/png": "[encoded data removed]",
      "text/plain": [
       "<Figure size 432x432 with 1 Axes>"
      ]
     },
     "metadata": {
      "needs_background": "light"
     },
     "output_type": "display_data"
    }
   ],
   "source": [
    "plt.figure(figsize=(6,6))\n",
    "plt.xticks(rotation=90)\n",
    "plt.title(\"Frequency of categories in Type\")\n",
    "plt.ylim(0,10000)\n",
    "graph=sns.countplot(x=df[\"Type\"])\n",
    "# Annotating values on bars\n",
    "for p in graph.patches:\n",
    "    graph.annotate('{:.0f}'.format(p.get_height()),(p.get_x() + 0.3, p.get_height()),ha='center',va='bottom',color='black')"
   ]
  },
  {
   "cell_type": "code",
   "execution_count": 53,
   "metadata": {
    "colab": {
     "base_uri": "https://localhost:8080/",
     "height": 474
    },
    "id": "Yhib8GGdxc8j",
    "outputId": "5a38f178-b29b-4004-f013-0361909d2922"
   },
   "outputs": [
    {
     "data": {
      "image/png": "[encoded data removed]",
      "text/plain": [
       "<Figure size 720x432 with 1 Axes>"
      ]
     },
     "metadata": {
      "needs_background": "light"
     },
     "output_type": "display_data"
    }
   ],
   "source": [
    "plt.figure(figsize=(10,6))\n",
    "plt.xticks(rotation=90)\n",
    "plt.title(\"Frequency of categories in Content Rating\")\n",
    "graph=sns.countplot(x=df[\"Content Rating\"])\n",
    "# Annotating values on bars\n",
    "for p in graph.patches:\n",
    "    graph.annotate('{:.0f}'.format(p.get_height()),(p.get_x() + 0.3, p.get_height()),ha='center',va='bottom',color='black')\n",
    "    if p.get_height() == df[\"Content Rating\"].value_counts()[0]:\n",
    "        p.set_color('red')    \n",
    "    else:\n",
    "        p.set_color('grey')"
   ]
  },
  {
   "cell_type": "code",
   "execution_count": 54,
   "metadata": {
    "colab": {
     "base_uri": "https://localhost:8080/",
     "height": 470
    },
    "id": "YFSPDhCqx90A",
    "outputId": "8edeeed3-925d-4728-b474-70cb7b7b812d"
   },
   "outputs": [
    {
     "data": {
      "image/png": "[encoded data removed]",
      "text/plain": [
       "<Figure size 1080x432 with 1 Axes>"
      ]
     },
     "metadata": {
      "needs_background": "light"
     },
     "output_type": "display_data"
    }
   ],
   "source": [
    "plt.figure(figsize=(15,6))\n",
    "plt.xticks(rotation=90)\n",
    "plt.title(\"Top 10 Genres based on their occurence\")\n",
    "graph=sns.countplot(x='Genres',data=df,order=pd.value_counts(df['Genres']).iloc[:10].index)\n",
    "# Annotating values on bars\n",
    "for p in graph.patches:\n",
    "    graph.annotate('{:.0f}'.format(p.get_height()),(p.get_x() + 0.3, p.get_height()),ha='center',va='bottom',color='black')\n",
    "    if p.get_height() == df[\"Genres\"].value_counts()[0]:\n",
    "        p.set_color('red')    \n",
    "    else:\n",
    "        p.set_color('grey')"
   ]
  },
  {
   "cell_type": "markdown",
   "metadata": {
    "id": "vxa4Q0e3yjeW"
   },
   "source": [
    "Tools Genre is on the first position with the highest frequency(829) and Entertainment and Education is on 2nd  and 3rd position respectively."
   ]
  },
  {
   "cell_type": "code",
   "execution_count": 55,
   "metadata": {
    "colab": {
     "base_uri": "https://localhost:8080/",
     "height": 420
    },
    "id": "4RL_UwOxyaey",
    "outputId": "93e0df09-1be7-425a-cee2-c9b7261b54cc"
   },
   "outputs": [
    {
     "data": {
      "image/png": "[encoded data removed]",
      "text/plain": [
       "<Figure size 1080x432 with 1 Axes>"
      ]
     },
     "metadata": {
      "needs_background": "light"
     },
     "output_type": "display_data"
    }
   ],
   "source": [
    "plt.figure(figsize=(15,6))\n",
    "plt.xticks(rotation=90)\n",
    "plt.title(\"Top 10 Current Versions based on their occurence\")\n",
    "graph=sns.countplot(x='Current Ver',data=df,order=pd.value_counts(df['Current Ver']).iloc[1:10].index)\n",
    "# Annotating values on bars\n",
    "for p in graph.patches:\n",
    "    graph.annotate('{:.0f}'.format(p.get_height()),(p.get_x() + 0.3, p.get_height()),ha='center',va='bottom',color='black')\n",
    "    if p.get_height() == df[\"Current Ver\"].value_counts()[1]:\n",
    "        p.set_color('red')    \n",
    "    else:\n",
    "        p.set_color('grey')"
   ]
  },
  {
   "cell_type": "markdown",
   "metadata": {
    "id": "G3ehqdor0h3t"
   },
   "source": [
    "1.0 is the current version with the highest frequency (800)."
   ]
  },
  {
   "cell_type": "code",
   "execution_count": 56,
   "metadata": {
    "colab": {
     "base_uri": "https://localhost:8080/",
     "height": 485
    },
    "id": "8P14039S0giy",
    "outputId": "a2fd004b-b3ac-4e1d-b9e0-4258956fdeb8"
   },
   "outputs": [
    {
     "data": {
      "image/png": "[encoded data removed]",
      "text/plain": [
       "<Figure size 1080x432 with 1 Axes>"
      ]
     },
     "metadata": {
      "needs_background": "light"
     },
     "output_type": "display_data"
    }
   ],
   "source": [
    "plt.figure(figsize=(15,6))\n",
    "plt.xticks(rotation=90)\n",
    "plt.title(\"Top 10 categories of Android Version based on their occurence\")\n",
    "plt.ylim(0,2500)\n",
    "graph=sns.countplot(x='Android Ver',data=df,order=pd.value_counts(df['Android Ver']).iloc[:10].index)\n",
    "# Annotating values on bars\n",
    "for p in graph.patches:\n",
    "    graph.annotate('{:.0f}'.format(p.get_height()),(p.get_x() + 0.3, p.get_height()),ha='center',va='bottom',color='black')\n",
    "    if p.get_height() == df[\"Android Ver\"].value_counts()[0]:\n",
    "        p.set_color('red')    \n",
    "    else:\n",
    "        p.set_color('grey')"
   ]
  },
  {
   "cell_type": "markdown",
   "metadata": {
    "id": "5EbDNfer1QtB"
   },
   "source": [
    "Most of the apps require android version 4.0 and up."
   ]
  },
  {
   "cell_type": "markdown",
   "metadata": {
    "id": "7IGTGxbRGLEK"
   },
   "source": [
    "# **Bivariate Analysis**"
   ]
  },
  {
   "cell_type": "code",
   "execution_count": 57,
   "metadata": {
    "colab": {
     "base_uri": "https://localhost:8080/",
     "height": 374
    },
    "id": "zIViixJbRYzm",
    "outputId": "9973a7f8-7015-41c0-e977-1c04a7ebc650"
   },
   "outputs": [
    {
     "data": {
      "image/png": "[encoded data removed]",
      "text/plain": [
       "<Figure size 2160x432 with 1 Axes>"
      ]
     },
     "metadata": {
      "needs_background": "light"
     },
     "output_type": "display_data"
    }
   ],
   "source": [
    "plt.figure(figsize=(30,6))\n",
    "plt.xticks(rotation=90)\n",
    "graph=sns.barplot(x=df[\"Content Rating\"],y=df[\"Reviews\"],ci=None)\n",
    "# Annotating values on bars\n",
    "for p in graph.patches:\n",
    "    graph.annotate('{:.0f}'.format(p.get_height()),(p.get_x() + 0.3, p.get_height()),ha='center',va='bottom',color='black')"
   ]
  },
  {
   "cell_type": "markdown",
   "metadata": {
    "id": "ahIgATmkbYzF"
   },
   "source": [
    "Content Rating \"Everyone 10+\" has got the highest number of average reviews which is more than 6,00,000. "
   ]
  },
  {
   "cell_type": "code",
   "execution_count": 58,
   "metadata": {
    "colab": {
     "base_uri": "https://localhost:8080/",
     "height": 648
    },
    "id": "4_eV01wMiUZ_",
    "outputId": "b4e276ae-a8d1-4390-fcd9-4edf1ee54edb"
   },
   "outputs": [
    {
     "data": {
      "image/png": "[encoded data removed]",
      "text/plain": [
       "<Figure size 1080x432 with 1 Axes>"
      ]
     },
     "metadata": {
      "needs_background": "light"
     },
     "output_type": "display_data"
    }
   ],
   "source": [
    "plt.figure(figsize=(15,6))\n",
    "plt.title(label=\"Top 10 Apps with highest number of reviews\",fontsize=15,color=\"black\")\n",
    "plt.xticks(rotation=90)\n",
    "plt.ticklabel_format(useOffset=False,axis=\"y\",style=\"plain\")\n",
    "graph=sns.barplot(data=df.nlargest(10,\"Reviews\"),x=\"App\",y=\"Reviews\")\n",
    "# Annotating values on bars\n",
    "for p in graph.patches:\n",
    "    graph.annotate('{:.0f}'.format(p.get_height()),(p.get_x() + 0.3, p.get_height()),ha='center',va='bottom',color='black')"
   ]
  },
  {
   "cell_type": "markdown",
   "metadata": {
    "id": "tuWBlcIbp75P"
   },
   "source": [
    "1. Facebook has got the maximum number of reviews i.e., 78158306 reviews.\n",
    "2. Top 4 apps which has got the maximum number of reviews are social media apps and all apps are owned by Meta Inc. \n",
    "3. There are 3 games in Top 10."
   ]
  },
  {
   "cell_type": "code",
   "execution_count": 59,
   "metadata": {
    "colab": {
     "base_uri": "https://localhost:8080/",
     "height": 370
    },
    "id": "V1E59Z1q99s2",
    "outputId": "01d63b4c-28de-42bd-af81-d40bda4f9201"
   },
   "outputs": [
    {
     "data": {
      "text/plain": [
       "<matplotlib.legend.Legend at 0x2a2e1bf1df0>"
      ]
     },
     "execution_count": 59,
     "metadata": {},
     "output_type": "execute_result"
    },
    {
     "data": {
      "image/png": "[encoded data removed]",
      "text/plain": [
       "<Figure size 432x288 with 1 Axes>"
      ]
     },
     "metadata": {
      "needs_background": "light"
     },
     "output_type": "display_data"
    }
   ],
   "source": [
    "graph = sns.countplot(x=df[\"Content Rating\"],hue=df[\"Type\"])\n",
    "# Annotating values on bars\n",
    "for p in graph.patches:\n",
    "    graph.annotate('{:.0f}'.format(p.get_height()),(p.get_x() + 0.3, p.get_height()),ha='center',va='bottom',color='black')\n",
    "plt.xticks(rotation=90)\n",
    "plt.ylim(0,8000)\n",
    "plt.legend(bbox_to_anchor=(1.04, 1), loc=\"upper left\") # Getting the legend outside the plot"
   ]
  },
  {
   "cell_type": "markdown",
   "metadata": {
    "id": "CrdC6f7tQ6b9"
   },
   "source": [
    "1. More than 91% apps are free where Content Rating is \"Everyone\".\n",
    "2. Ratio of free apps is more than paid apps in all categories of Content Rating."
   ]
  },
  {
   "cell_type": "code",
   "execution_count": 60,
   "metadata": {
    "colab": {
     "base_uri": "https://localhost:8080/",
     "height": 564
    },
    "id": "DOgoEyTpUKgA",
    "outputId": "9f6a2d81-4e70-4494-999e-aa01a885dd6e"
   },
   "outputs": [
    {
     "data": {
      "image/png": "[encoded data removed]",
      "text/plain": [
       "<Figure size 1080x432 with 1 Axes>"
      ]
     },
     "metadata": {
      "needs_background": "light"
     },
     "output_type": "display_data"
    }
   ],
   "source": [
    "plt.figure(figsize=(15,6))\n",
    "plt.title(label=\"Top 10 largest apps in terms of Size\",fontsize=15,color=\"black\")\n",
    "plt.xticks(rotation=90)\n",
    "plt.ticklabel_format(useOffset=False,axis=\"y\",style=\"plain\")# For not converting the y axis to scientific notations.\n",
    "graph=sns.barplot(data=df.nlargest(10,\"Size\"),x=\"App\",y=\"Size\")\n",
    "# Annotating values on bars\n",
    "for p in graph.patches:\n",
    "    graph.annotate('{:.0f}'.format(p.get_height()),(p.get_x() + 0.3, p.get_height()),ha='center',va='bottom',color='black')"
   ]
  },
  {
   "cell_type": "markdown",
   "metadata": {
    "id": "vgXHkY-Fxs5S"
   },
   "source": [
    "These are the apps with the maximum size of apps (100 mb) available in our datasets."
   ]
  },
  {
   "cell_type": "code",
   "execution_count": 61,
   "metadata": {
    "colab": {
     "base_uri": "https://localhost:8080/",
     "height": 386
    },
    "id": "M_T0-XCx1pVb",
    "outputId": "e53fb834-7aee-4535-bcab-39cbfb60c97e"
   },
   "outputs": [
    {
     "data": {
      "text/plain": [
       "<seaborn.axisgrid.FacetGrid at 0x2a2e1b4afd0>"
      ]
     },
     "execution_count": 61,
     "metadata": {},
     "output_type": "execute_result"
    },
    {
     "data": {
      "image/png": "[encoded data removed]",
      "text/plain": [
       "<Figure size 360x360 with 1 Axes>"
      ]
     },
     "metadata": {
      "needs_background": "light"
     },
     "output_type": "display_data"
    }
   ],
   "source": [
    "sns.catplot(kind=\"swarm\",data=df.loc[df[\"Price\"]>0],x=\"Content Rating\",y=\"Price\")"
   ]
  },
  {
   "cell_type": "markdown",
   "metadata": {
    "id": "80B2lJye4GD-"
   },
   "source": [
    "Most of the paid apps are priced less than 50 dollars. But there are some apps which are priced 399.99 dollars."
   ]
  },
  {
   "cell_type": "code",
   "execution_count": 62,
   "metadata": {
    "colab": {
     "base_uri": "https://localhost:8080/",
     "height": 485
    },
    "id": "Sa9Q5PG_909A",
    "outputId": "6823cbb7-9bca-49eb-cc79-a0269e2d68fc"
   },
   "outputs": [
    {
     "data": {
      "text/plain": [
       "<AxesSubplot:title={'center':'Distribution of size with respect to Content Rating'}, xlabel='Content Rating', ylabel='Size'>"
      ]
     },
     "execution_count": 62,
     "metadata": {},
     "output_type": "execute_result"
    },
    {
     "data": {
      "image/png": "[encoded data removed]",
      "text/plain": [
       "<Figure size 1440x432 with 1 Axes>"
      ]
     },
     "metadata": {
      "needs_background": "light"
     },
     "output_type": "display_data"
    }
   ],
   "source": [
    "plt.figure(figsize=(20,6))\n",
    "plt.xticks(rotation=90)\n",
    "plt.title(label=\"Distribution of size with respect to Content Rating\",fontsize=20,color=\"green\")\n",
    "sns.boxplot(x=\"Content Rating\",y=\"Size\",data=df.loc[df[\"Size\"]>0])"
   ]
  },
  {
   "cell_type": "markdown",
   "metadata": {
    "id": "Ku3ow576BIB5"
   },
   "source": [
    "There are outliers in \"Everyone\" and \"Mature 17+\" categories with respect to size of the app."
   ]
  },
  {
   "cell_type": "code",
   "execution_count": 63,
   "metadata": {
    "colab": {
     "base_uri": "https://localhost:8080/",
     "height": 474
    },
    "id": "Fl9-789s9uYM",
    "outputId": "3bb3360e-e0eb-41c0-ac67-a937819e4489"
   },
   "outputs": [
    {
     "data": {
      "image/png": "[encoded data removed]",
      "text/plain": [
       "<Figure size 1080x432 with 1 Axes>"
      ]
     },
     "metadata": {
      "needs_background": "light"
     },
     "output_type": "display_data"
    }
   ],
   "source": [
    "plt.figure(figsize=(15,6))\n",
    "plt.xticks(rotation=90)\n",
    "plt.title(\"Average Size of the App with respect to Content Rating\")\n",
    "graph=sns.barplot(x=df[\"Content Rating\"],y=df[\"Size\"],ci=None)\n",
    "# Annotating values on bars\n",
    "for p in graph.patches:\n",
    "    graph.annotate('{:.0f}'.format(p.get_height()),(p.get_x() + 0.3, p.get_height()),ha='center',va='bottom',color='black')"
   ]
  },
  {
   "cell_type": "markdown",
   "metadata": {
    "id": "DJzDYgGl-LdR"
   },
   "source": [
    "Content Rating wise \"Everyone 10+\" has the highest average size of the apps. \n"
   ]
  },
  {
   "cell_type": "code",
   "execution_count": 64,
   "metadata": {
    "colab": {
     "base_uri": "https://localhost:8080/",
     "height": 566
    },
    "id": "6j_MmqQtvGuw",
    "outputId": "2e566fe0-333f-4d94-cee1-fe733d264ca8"
   },
   "outputs": [
    {
     "data": {
      "image/png": "[encoded data removed]",
      "text/plain": [
       "<Figure size 1080x432 with 1 Axes>"
      ]
     },
     "metadata": {
      "needs_background": "light"
     },
     "output_type": "display_data"
    }
   ],
   "source": [
    "plt.figure(figsize=(15,6))\n",
    "plt.title(label=\"Top 15 highest paid apps\",fontsize=15,color=\"black\")\n",
    "plt.xticks(rotation=90)\n",
    "plt.ticklabel_format(useOffset=False,axis=\"y\",style=\"plain\")\n",
    "graph=sns.barplot(data=df.nlargest(15,\"Price\"),x=\"App\",y=\"Price\")\n",
    "# Annotating values on bars\n",
    "for p in graph.patches:\n",
    "    graph.annotate(\"%.2f\" % p.get_height(), (p.get_x() + p.get_width() / 2., p.get_height()),ha='center', va='bottom', fontsize=11, color='black')\n",
    "    if p.get_height() == max(df[\"Price\"]):\n",
    "        p.set_color('red')    \n",
    "    else:\n",
    "        p.set_color('grey')"
   ]
  },
  {
   "cell_type": "markdown",
   "metadata": {
    "id": "OsVpdJFguRY0"
   },
   "source": [
    "1. Surprisingly most of the Top paid apps have I'm Rich in their app names.\n",
    "2. Most of apps among top paid apps are intensionally priced at 399.99 dollars.\n"
   ]
  },
  {
   "cell_type": "markdown",
   "metadata": {
    "id": "bZO4lPg9IV2h"
   },
   "source": [
    " ### **Final Analysis**\n",
    "\n",
    " 1. Most of the Apps are free.\n",
    " 2. Top highest paid apps have \"I'm Rich\" in their names.\n",
    " 3. Social Media Apps like Facebook, Whatsapp, etc. has got the highest number of reviews.\n",
    " 4. Most of the apps are for everyone(content is not vulgar) and content rating is family.\n",
    " 5. The highest app size in this dataset is 100.00 mb.\n",
    " 6. Paid apps are mostly priced below 50 dollars across all categories.\n"
   ]
  }
 ],
 "metadata": {
  "colab": {
   "collapsed_sections": [],
   "provenance": []
  },
  "kernelspec": {
   "display_name": "Python 3 (ipykernel)",
   "language": "python",
   "name": "python3"
  },
  "language_info": {
   "codemirror_mode": {
    "name": "ipython",
    "version": 3
   },
   "file_extension": ".py",
   "mimetype": "text/x-python",
   "name": "python",
   "nbconvert_exporter": "python",
   "pygments_lexer": "ipython3",
   "version": "3.8.8"
  }
 },
 "nbformat": 4,
 "nbformat_minor": 1
}
